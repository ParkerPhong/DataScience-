{
 "cells": [
  {
   "cell_type": "markdown",
   "metadata": {
    "id": "26KthBFty-QG"
   },
   "source": [
    "<div>\n",
    "<img src=https://www.institutedata.com/wp-content/uploads/2019/10/iod_h_tp_primary_c.svg width=\"300\">\n",
    "</div>"
   ]
  },
  {
   "cell_type": "markdown",
   "metadata": {
    "id": "W5NydEUxy-QJ"
   },
   "source": [
    "# Demo: NN with Keras\n",
    "INSTRUCTIONS:\n",
    "- Run the cells\n",
    "- Observe and understand the results\n",
    "- Answer the questions"
   ]
  },
  {
   "cell_type": "markdown",
   "metadata": {
    "id": "9n746euhy-QN"
   },
   "source": [
    "## Written digits classification with Keras"
   ]
  },
  {
   "cell_type": "code",
   "execution_count": 2,
   "metadata": {
    "colab": {
     "base_uri": "https://localhost:8080/",
     "height": 34
    },
    "id": "hJgb9UC1y-QQ",
    "outputId": "a21eacbd-ae6c-4e7d-dd78-d9ea165fbbb9"
   },
   "outputs": [],
   "source": [
    "## Import libraries\n",
    "import numpy as np\n",
    "\n",
    "%matplotlib inline\n",
    "import matplotlib.pyplot as plt\n",
    "\n",
    "from sklearn.datasets import load_digits\n",
    "from sklearn.metrics import confusion_matrix\n",
    "from sklearn.model_selection import train_test_split\n",
    "\n",
    "# import keras\n",
    "from keras.models import Sequential\n",
    "from keras.layers import Dense\n",
    "from tensorflow.keras.utils import to_categorical"
   ]
  },
  {
   "cell_type": "code",
   "execution_count": 3,
   "metadata": {
    "id": "0tQuyTyyy-QZ"
   },
   "outputs": [],
   "source": [
    "# The digits dataset\n",
    "digits = load_digits()"
   ]
  },
  {
   "cell_type": "code",
   "execution_count": 4,
   "metadata": {
    "colab": {
     "base_uri": "https://localhost:8080/",
     "height": 826
    },
    "id": "Zn2DiwPXy-Qd",
    "outputId": "35034698-a503-4771-8176-a6a24a2aa06d"
   },
   "outputs": [
    {
     "name": "stdout",
     "output_type": "stream",
     "text": [
      ".. _digits_dataset:\n",
      "\n",
      "Optical recognition of handwritten digits dataset\n",
      "--------------------------------------------------\n",
      "\n",
      "**Data Set Characteristics:**\n",
      "\n",
      "    :Number of Instances: 1797\n",
      "    :Number of Attributes: 64\n",
      "    :Attribute Information: 8x8 image of integer pixels in the range 0..16.\n",
      "    :Missing Attribute Values: None\n",
      "    :Creator: E. Alpaydin (alpaydin '@' boun.edu.tr)\n",
      "    :Date: July; 1998\n",
      "\n",
      "This is a copy of the test set of the UCI ML hand-written digits datasets\n",
      "https://archive.ics.uci.edu/ml/datasets/Optical+Recognition+of+Handwritten+Digits\n",
      "\n",
      "The data set contains images of hand-written digits: 10 classes where\n",
      "each class refers to a digit.\n",
      "\n",
      "Preprocessing programs made available by NIST were used to extract\n",
      "normalized bitmaps of handwritten digits from a preprinted form. From a\n",
      "total of 43 people, 30 contributed to the training set and different 13\n",
      "to the test set. 32x32 bitmaps are divided into nonoverlapping blocks of\n",
      "4x4 and the number of on pixels are counted in each block. This generates\n",
      "an input matrix of 8x8 where each element is an integer in the range\n",
      "0..16. This reduces dimensionality and gives invariance to small\n",
      "distortions.\n",
      "\n",
      "For info on NIST preprocessing routines, see M. D. Garris, J. L. Blue, G.\n",
      "T. Candela, D. L. Dimmick, J. Geist, P. J. Grother, S. A. Janet, and C.\n",
      "L. Wilson, NIST Form-Based Handprint Recognition System, NISTIR 5469,\n",
      "1994.\n",
      "\n",
      ".. topic:: References\n",
      "\n",
      "  - C. Kaynak (1995) Methods of Combining Multiple Classifiers and Their\n",
      "    Applications to Handwritten Digit Recognition, MSc Thesis, Institute of\n",
      "    Graduate Studies in Science and Engineering, Bogazici University.\n",
      "  - E. Alpaydin, C. Kaynak (1998) Cascading Classifiers, Kybernetika.\n",
      "  - Ken Tang and Ponnuthurai N. Suganthan and Xi Yao and A. Kai Qin.\n",
      "    Linear dimensionalityreduction using relevance weighted LDA. School of\n",
      "    Electrical and Electronic Engineering Nanyang Technological University.\n",
      "    2005.\n",
      "  - Claudio Gentile. A New Approximate Maximal Margin Classification\n",
      "    Algorithm. NIPS. 2000.\n",
      "\n"
     ]
    }
   ],
   "source": [
    "print(digits.DESCR)"
   ]
  },
  {
   "cell_type": "code",
   "execution_count": 5,
   "metadata": {
    "colab": {
     "base_uri": "https://localhost:8080/",
     "height": 147
    },
    "id": "oi5lOrDYy-Qh",
    "outputId": "2efb7206-c6e1-4070-d8f5-57b76ffeea7c"
   },
   "outputs": [
    {
     "data": {
      "image/png": "[encoded data removed]",
      "text/plain": [
       "<Figure size 144x144 with 1 Axes>"
      ]
     },
     "metadata": {},
     "output_type": "display_data"
    }
   ],
   "source": [
    "id = np.random.randint(len(digits.target))\n",
    "plt.figure(figsize = (2, 2))\n",
    "plt.imshow(digits.images[id], cmap = 'gray')\n",
    "plt.xticks([])\n",
    "plt.yticks([])\n",
    "plt.show()"
   ]
  },
  {
   "cell_type": "code",
   "execution_count": 6,
   "metadata": {
    "id": "k-Wu4bQJy-Ql"
   },
   "outputs": [],
   "source": [
    "# Prepare input data\n",
    "# input\n",
    "X = digits.data.astype(np.uint8)\n",
    "n_cols = X.shape[1]\n",
    "\n",
    "# output\n",
    "target = digits.target.astype(np.uint8)\n",
    "\n",
    "# Convert the target to categorical\n",
    "y = to_categorical(\n",
    "    target,\n",
    "    num_classes = len(set(target)),\n",
    "    dtype = 'uint8')"
   ]
  },
  {
   "cell_type": "code",
   "execution_count": 7,
   "metadata": {
    "id": "nBFFtaWcy-Qo"
   },
   "outputs": [],
   "source": [
    "X_train, X_test, y_train, y_test = train_test_split(\n",
    "    X, y, \n",
    "    test_size = 0.3,\n",
    "    random_state = 65)"
   ]
  },
  {
   "cell_type": "code",
   "execution_count": 8,
   "metadata": {
    "id": "aKrm9Miqy-Qq"
   },
   "outputs": [
    {
     "name": "stderr",
     "output_type": "stream",
     "text": [
      "2022-03-19 22:39:46.419198: I tensorflow/core/platform/cpu_feature_guard.cc:151] This TensorFlow binary is optimized with oneAPI Deep Neural Network Library (oneDNN) to use the following CPU instructions in performance-critical operations:  AVX2 FMA\n",
      "To enable them in other operations, rebuild TensorFlow with the appropriate compiler flags.\n"
     ]
    }
   ],
   "source": [
    "# Set up the model architecture\n",
    "model = Sequential()"
   ]
  },
  {
   "cell_type": "code",
   "execution_count": 9,
   "metadata": {
    "id": "KC9AVmkFy-Qr"
   },
   "outputs": [],
   "source": [
    "# Add the first hidden layer\n",
    "model.add(Dense(100, activation = 'relu', input_shape = (n_cols, )))\n",
    "# Add the second hidden layer\n",
    "model.add(Dense(50, activation = 'relu'))\n",
    "\n",
    "# Add the output layer\n",
    "model.add(Dense(10, activation = 'softmax'))"
   ]
  },
  {
   "cell_type": "code",
   "execution_count": 10,
   "metadata": {
    "colab": {
     "base_uri": "https://localhost:8080/",
     "height": 281
    },
    "id": "05KgUEX8y-Qt",
    "outputId": "eb02ea89-956b-466a-913f-3904294686b4"
   },
   "outputs": [
    {
     "name": "stdout",
     "output_type": "stream",
     "text": [
      "Model: \"sequential\"\n",
      "_________________________________________________________________\n",
      " Layer (type)                Output Shape              Param #   \n",
      "=================================================================\n",
      " dense (Dense)               (None, 100)               6500      \n",
      "                                                                 \n",
      " dense_1 (Dense)             (None, 50)                5050      \n",
      "                                                                 \n",
      " dense_2 (Dense)             (None, 10)                510       \n",
      "                                                                 \n",
      "=================================================================\n",
      "Total params: 12,060\n",
      "Trainable params: 12,060\n",
      "Non-trainable params: 0\n",
      "_________________________________________________________________\n",
      "None\n"
     ]
    }
   ],
   "source": [
    "print(model.summary())"
   ]
  },
  {
   "cell_type": "code",
   "execution_count": 11,
   "metadata": {
    "id": "4eu9O-5Xy-Qv"
   },
   "outputs": [],
   "source": [
    "# Compile the model\n",
    "model.compile(\n",
    "    optimizer = 'sgd',\n",
    "    loss = 'categorical_crossentropy',\n",
    "    metrics = ['accuracy'])"
   ]
  },
  {
   "cell_type": "code",
   "execution_count": 12,
   "metadata": {
    "colab": {
     "base_uri": "https://localhost:8080/",
     "height": 1000
    },
    "id": "DSnIhJ0My-Qw",
    "outputId": "26c418d2-14a1-43b2-de47-f64e320dbcb9",
    "scrolled": false
   },
   "outputs": [
    {
     "name": "stdout",
     "output_type": "stream",
     "text": [
      "Epoch 1/100\n",
      "48/48 [==============================] - 0s 4ms/step - loss: 1.3747 - accuracy: 0.6518 - val_loss: 3.3538 - val_accuracy: 0.3175\n",
      "Epoch 2/100\n",
      "48/48 [==============================] - 0s 2ms/step - loss: 0.4091 - accuracy: 0.8832 - val_loss: 0.6293 - val_accuracy: 0.8127\n",
      "Epoch 3/100\n",
      "48/48 [==============================] - 0s 2ms/step - loss: 0.2363 - accuracy: 0.9331 - val_loss: 0.3410 - val_accuracy: 0.8921\n",
      "Epoch 4/100\n",
      "48/48 [==============================] - 0s 2ms/step - loss: 0.1686 - accuracy: 0.9522 - val_loss: 0.2147 - val_accuracy: 0.9238\n",
      "Epoch 5/100\n",
      "48/48 [==============================] - 0s 2ms/step - loss: 0.1323 - accuracy: 0.9597 - val_loss: 0.2771 - val_accuracy: 0.9238\n",
      "Epoch 6/100\n",
      "48/48 [==============================] - 0s 2ms/step - loss: 0.1149 - accuracy: 0.9650 - val_loss: 0.2019 - val_accuracy: 0.9429\n",
      "Epoch 7/100\n",
      "48/48 [==============================] - 0s 3ms/step - loss: 0.0903 - accuracy: 0.9777 - val_loss: 0.1815 - val_accuracy: 0.9492\n",
      "Epoch 8/100\n",
      "48/48 [==============================] - 0s 3ms/step - loss: 0.0724 - accuracy: 0.9841 - val_loss: 0.1854 - val_accuracy: 0.9524\n",
      "Epoch 9/100\n",
      "48/48 [==============================] - 0s 2ms/step - loss: 0.0663 - accuracy: 0.9883 - val_loss: 0.4076 - val_accuracy: 0.8667\n",
      "Epoch 10/100\n",
      "48/48 [==============================] - 0s 2ms/step - loss: 0.0655 - accuracy: 0.9883 - val_loss: 0.1854 - val_accuracy: 0.9492\n",
      "Epoch 11/100\n",
      "48/48 [==============================] - 0s 2ms/step - loss: 0.0520 - accuracy: 0.9883 - val_loss: 0.2161 - val_accuracy: 0.9333\n",
      "Epoch 12/100\n",
      "48/48 [==============================] - 0s 2ms/step - loss: 0.0451 - accuracy: 0.9915 - val_loss: 0.1531 - val_accuracy: 0.9524\n",
      "Epoch 13/100\n",
      "48/48 [==============================] - 0s 2ms/step - loss: 0.0387 - accuracy: 0.9958 - val_loss: 0.1565 - val_accuracy: 0.9587\n",
      "Epoch 14/100\n",
      "48/48 [==============================] - 0s 2ms/step - loss: 0.0332 - accuracy: 0.9936 - val_loss: 0.1586 - val_accuracy: 0.9556\n",
      "Epoch 15/100\n",
      "48/48 [==============================] - 0s 2ms/step - loss: 0.0283 - accuracy: 0.9979 - val_loss: 0.1737 - val_accuracy: 0.9524\n",
      "Epoch 16/100\n",
      "48/48 [==============================] - 0s 2ms/step - loss: 0.0261 - accuracy: 0.9979 - val_loss: 0.1397 - val_accuracy: 0.9619\n",
      "Epoch 17/100\n",
      "48/48 [==============================] - 0s 2ms/step - loss: 0.0233 - accuracy: 0.9989 - val_loss: 0.1532 - val_accuracy: 0.9524\n",
      "Epoch 18/100\n",
      "48/48 [==============================] - 0s 3ms/step - loss: 0.0215 - accuracy: 0.9979 - val_loss: 0.1391 - val_accuracy: 0.9587\n",
      "Epoch 19/100\n",
      "48/48 [==============================] - 0s 3ms/step - loss: 0.0183 - accuracy: 1.0000 - val_loss: 0.1405 - val_accuracy: 0.9556\n",
      "Epoch 20/100\n",
      "48/48 [==============================] - 0s 2ms/step - loss: 0.0169 - accuracy: 0.9989 - val_loss: 0.1291 - val_accuracy: 0.9556\n",
      "Epoch 21/100\n",
      "48/48 [==============================] - 0s 2ms/step - loss: 0.0153 - accuracy: 1.0000 - val_loss: 0.1439 - val_accuracy: 0.9619\n",
      "Epoch 22/100\n",
      "48/48 [==============================] - 0s 2ms/step - loss: 0.0143 - accuracy: 1.0000 - val_loss: 0.1436 - val_accuracy: 0.9619\n",
      "Epoch 23/100\n",
      "48/48 [==============================] - 0s 2ms/step - loss: 0.0135 - accuracy: 1.0000 - val_loss: 0.1359 - val_accuracy: 0.9556\n",
      "Epoch 24/100\n",
      "48/48 [==============================] - 0s 2ms/step - loss: 0.0128 - accuracy: 1.0000 - val_loss: 0.1399 - val_accuracy: 0.9587\n",
      "Epoch 25/100\n",
      "48/48 [==============================] - 0s 3ms/step - loss: 0.0122 - accuracy: 1.0000 - val_loss: 0.1397 - val_accuracy: 0.9619\n",
      "Epoch 26/100\n",
      "48/48 [==============================] - 0s 3ms/step - loss: 0.0117 - accuracy: 1.0000 - val_loss: 0.1333 - val_accuracy: 0.9619\n",
      "Epoch 27/100\n",
      "48/48 [==============================] - 0s 3ms/step - loss: 0.0112 - accuracy: 1.0000 - val_loss: 0.1378 - val_accuracy: 0.9587\n",
      "Epoch 28/100\n",
      "48/48 [==============================] - 0s 2ms/step - loss: 0.0102 - accuracy: 1.0000 - val_loss: 0.1311 - val_accuracy: 0.9524\n",
      "Epoch 29/100\n",
      "48/48 [==============================] - 0s 2ms/step - loss: 0.0102 - accuracy: 1.0000 - val_loss: 0.1333 - val_accuracy: 0.9587\n",
      "Epoch 30/100\n",
      "48/48 [==============================] - 0s 2ms/step - loss: 0.0097 - accuracy: 1.0000 - val_loss: 0.1300 - val_accuracy: 0.9556\n",
      "Epoch 31/100\n",
      "48/48 [==============================] - 0s 3ms/step - loss: 0.0089 - accuracy: 1.0000 - val_loss: 0.1336 - val_accuracy: 0.9587\n",
      "Epoch 32/100\n",
      "48/48 [==============================] - 0s 3ms/step - loss: 0.0083 - accuracy: 1.0000 - val_loss: 0.1348 - val_accuracy: 0.9556\n",
      "Epoch 33/100\n",
      "48/48 [==============================] - 0s 4ms/step - loss: 0.0084 - accuracy: 1.0000 - val_loss: 0.1543 - val_accuracy: 0.9587\n",
      "Epoch 34/100\n",
      "48/48 [==============================] - 0s 2ms/step - loss: 0.0081 - accuracy: 1.0000 - val_loss: 0.1378 - val_accuracy: 0.9587\n",
      "Epoch 35/100\n",
      "48/48 [==============================] - 0s 2ms/step - loss: 0.0074 - accuracy: 1.0000 - val_loss: 0.1310 - val_accuracy: 0.9556\n",
      "Epoch 36/100\n",
      "48/48 [==============================] - 0s 2ms/step - loss: 0.0075 - accuracy: 1.0000 - val_loss: 0.1322 - val_accuracy: 0.9587\n",
      "Epoch 37/100\n",
      "48/48 [==============================] - 0s 2ms/step - loss: 0.0069 - accuracy: 1.0000 - val_loss: 0.1354 - val_accuracy: 0.9556\n",
      "Epoch 38/100\n",
      "48/48 [==============================] - 0s 2ms/step - loss: 0.0068 - accuracy: 1.0000 - val_loss: 0.1280 - val_accuracy: 0.9556\n",
      "Epoch 39/100\n",
      "48/48 [==============================] - 0s 2ms/step - loss: 0.0066 - accuracy: 1.0000 - val_loss: 0.1372 - val_accuracy: 0.9556\n",
      "Epoch 40/100\n",
      "48/48 [==============================] - 0s 2ms/step - loss: 0.0063 - accuracy: 1.0000 - val_loss: 0.1409 - val_accuracy: 0.9556\n",
      "Epoch 41/100\n",
      "48/48 [==============================] - 0s 2ms/step - loss: 0.0061 - accuracy: 1.0000 - val_loss: 0.1321 - val_accuracy: 0.9587\n",
      "Epoch 42/100\n",
      "48/48 [==============================] - 0s 2ms/step - loss: 0.0060 - accuracy: 1.0000 - val_loss: 0.1360 - val_accuracy: 0.9619\n",
      "Epoch 43/100\n",
      "48/48 [==============================] - 0s 2ms/step - loss: 0.0058 - accuracy: 1.0000 - val_loss: 0.1368 - val_accuracy: 0.9556\n",
      "Epoch 44/100\n",
      "48/48 [==============================] - 0s 2ms/step - loss: 0.0056 - accuracy: 1.0000 - val_loss: 0.1322 - val_accuracy: 0.9556\n",
      "Epoch 45/100\n",
      "48/48 [==============================] - 0s 2ms/step - loss: 0.0054 - accuracy: 1.0000 - val_loss: 0.1347 - val_accuracy: 0.9524\n",
      "Epoch 46/100\n",
      "48/48 [==============================] - 0s 2ms/step - loss: 0.0052 - accuracy: 1.0000 - val_loss: 0.1357 - val_accuracy: 0.9556\n",
      "Epoch 47/100\n",
      "48/48 [==============================] - 0s 2ms/step - loss: 0.0052 - accuracy: 1.0000 - val_loss: 0.1327 - val_accuracy: 0.9556\n",
      "Epoch 48/100\n",
      "48/48 [==============================] - 0s 2ms/step - loss: 0.0050 - accuracy: 1.0000 - val_loss: 0.1332 - val_accuracy: 0.9524\n",
      "Epoch 49/100\n",
      "48/48 [==============================] - 0s 2ms/step - loss: 0.0047 - accuracy: 1.0000 - val_loss: 0.1274 - val_accuracy: 0.9587\n",
      "Epoch 50/100\n",
      "48/48 [==============================] - 0s 2ms/step - loss: 0.0047 - accuracy: 1.0000 - val_loss: 0.1353 - val_accuracy: 0.9524\n",
      "Epoch 51/100\n",
      "48/48 [==============================] - 0s 2ms/step - loss: 0.0046 - accuracy: 1.0000 - val_loss: 0.1372 - val_accuracy: 0.9556\n",
      "Epoch 52/100\n",
      "48/48 [==============================] - 0s 2ms/step - loss: 0.0045 - accuracy: 1.0000 - val_loss: 0.1332 - val_accuracy: 0.9524\n",
      "Epoch 53/100\n",
      "48/48 [==============================] - 0s 2ms/step - loss: 0.0045 - accuracy: 1.0000 - val_loss: 0.1346 - val_accuracy: 0.9556\n",
      "Epoch 54/100\n",
      "48/48 [==============================] - 0s 2ms/step - loss: 0.0043 - accuracy: 1.0000 - val_loss: 0.1322 - val_accuracy: 0.9556\n",
      "Epoch 55/100\n",
      "48/48 [==============================] - 0s 2ms/step - loss: 0.0042 - accuracy: 1.0000 - val_loss: 0.1370 - val_accuracy: 0.9556\n",
      "Epoch 56/100\n",
      "48/48 [==============================] - 0s 2ms/step - loss: 0.0041 - accuracy: 1.0000 - val_loss: 0.1351 - val_accuracy: 0.9587\n",
      "Epoch 57/100\n",
      "48/48 [==============================] - 0s 2ms/step - loss: 0.0040 - accuracy: 1.0000 - val_loss: 0.1366 - val_accuracy: 0.9524\n",
      "Epoch 58/100\n",
      "48/48 [==============================] - 0s 2ms/step - loss: 0.0039 - accuracy: 1.0000 - val_loss: 0.1359 - val_accuracy: 0.9524\n"
     ]
    },
    {
     "name": "stdout",
     "output_type": "stream",
     "text": [
      "Epoch 59/100\n",
      "48/48 [==============================] - 0s 2ms/step - loss: 0.0038 - accuracy: 1.0000 - val_loss: 0.1363 - val_accuracy: 0.9524\n",
      "Epoch 60/100\n",
      "48/48 [==============================] - 0s 2ms/step - loss: 0.0037 - accuracy: 1.0000 - val_loss: 0.1329 - val_accuracy: 0.9524\n",
      "Epoch 61/100\n",
      "48/48 [==============================] - 0s 2ms/step - loss: 0.0037 - accuracy: 1.0000 - val_loss: 0.1370 - val_accuracy: 0.9556\n",
      "Epoch 62/100\n",
      "48/48 [==============================] - 0s 2ms/step - loss: 0.0037 - accuracy: 1.0000 - val_loss: 0.1346 - val_accuracy: 0.9524\n",
      "Epoch 63/100\n",
      "48/48 [==============================] - 0s 2ms/step - loss: 0.0035 - accuracy: 1.0000 - val_loss: 0.1337 - val_accuracy: 0.9587\n",
      "Epoch 64/100\n",
      "48/48 [==============================] - 0s 2ms/step - loss: 0.0035 - accuracy: 1.0000 - val_loss: 0.1370 - val_accuracy: 0.9587\n",
      "Epoch 65/100\n",
      "48/48 [==============================] - 0s 2ms/step - loss: 0.0034 - accuracy: 1.0000 - val_loss: 0.1359 - val_accuracy: 0.9587\n",
      "Epoch 66/100\n",
      "48/48 [==============================] - 0s 2ms/step - loss: 0.0033 - accuracy: 1.0000 - val_loss: 0.1353 - val_accuracy: 0.9524\n",
      "Epoch 67/100\n",
      "48/48 [==============================] - 0s 2ms/step - loss: 0.0033 - accuracy: 1.0000 - val_loss: 0.1327 - val_accuracy: 0.9587\n",
      "Epoch 68/100\n",
      "48/48 [==============================] - 0s 2ms/step - loss: 0.0032 - accuracy: 1.0000 - val_loss: 0.1381 - val_accuracy: 0.9587\n",
      "Epoch 69/100\n",
      "48/48 [==============================] - 0s 2ms/step - loss: 0.0032 - accuracy: 1.0000 - val_loss: 0.1346 - val_accuracy: 0.9587\n",
      "Epoch 70/100\n",
      "48/48 [==============================] - 0s 3ms/step - loss: 0.0031 - accuracy: 1.0000 - val_loss: 0.1345 - val_accuracy: 0.9556\n",
      "Epoch 71/100\n",
      "48/48 [==============================] - 0s 2ms/step - loss: 0.0030 - accuracy: 1.0000 - val_loss: 0.1410 - val_accuracy: 0.9556\n",
      "Epoch 72/100\n",
      "48/48 [==============================] - 0s 2ms/step - loss: 0.0030 - accuracy: 1.0000 - val_loss: 0.1396 - val_accuracy: 0.9587\n",
      "Epoch 73/100\n",
      "48/48 [==============================] - 0s 2ms/step - loss: 0.0030 - accuracy: 1.0000 - val_loss: 0.1367 - val_accuracy: 0.9587\n",
      "Epoch 74/100\n",
      "48/48 [==============================] - 0s 2ms/step - loss: 0.0029 - accuracy: 1.0000 - val_loss: 0.1333 - val_accuracy: 0.9524\n",
      "Epoch 75/100\n",
      "48/48 [==============================] - 0s 2ms/step - loss: 0.0028 - accuracy: 1.0000 - val_loss: 0.1323 - val_accuracy: 0.9524\n",
      "Epoch 76/100\n",
      "48/48 [==============================] - 0s 2ms/step - loss: 0.0028 - accuracy: 1.0000 - val_loss: 0.1385 - val_accuracy: 0.9587\n",
      "Epoch 77/100\n",
      "48/48 [==============================] - 0s 2ms/step - loss: 0.0027 - accuracy: 1.0000 - val_loss: 0.1363 - val_accuracy: 0.9524\n",
      "Epoch 78/100\n",
      "48/48 [==============================] - 0s 2ms/step - loss: 0.0027 - accuracy: 1.0000 - val_loss: 0.1384 - val_accuracy: 0.9587\n",
      "Epoch 79/100\n",
      "48/48 [==============================] - 0s 2ms/step - loss: 0.0027 - accuracy: 1.0000 - val_loss: 0.1361 - val_accuracy: 0.9524\n",
      "Epoch 80/100\n",
      "48/48 [==============================] - 0s 2ms/step - loss: 0.0026 - accuracy: 1.0000 - val_loss: 0.1383 - val_accuracy: 0.9587\n",
      "Epoch 81/100\n",
      "48/48 [==============================] - 0s 2ms/step - loss: 0.0026 - accuracy: 1.0000 - val_loss: 0.1358 - val_accuracy: 0.9556\n",
      "Epoch 82/100\n",
      "48/48 [==============================] - 0s 3ms/step - loss: 0.0026 - accuracy: 1.0000 - val_loss: 0.1360 - val_accuracy: 0.9587\n",
      "Epoch 83/100\n",
      "48/48 [==============================] - 0s 2ms/step - loss: 0.0025 - accuracy: 1.0000 - val_loss: 0.1373 - val_accuracy: 0.9556\n",
      "Epoch 84/100\n",
      "48/48 [==============================] - 0s 2ms/step - loss: 0.0025 - accuracy: 1.0000 - val_loss: 0.1355 - val_accuracy: 0.9587\n",
      "Epoch 85/100\n",
      "48/48 [==============================] - 0s 2ms/step - loss: 0.0025 - accuracy: 1.0000 - val_loss: 0.1439 - val_accuracy: 0.9587\n",
      "Epoch 86/100\n",
      "48/48 [==============================] - 0s 2ms/step - loss: 0.0024 - accuracy: 1.0000 - val_loss: 0.1359 - val_accuracy: 0.9587\n",
      "Epoch 87/100\n",
      "48/48 [==============================] - 0s 2ms/step - loss: 0.0024 - accuracy: 1.0000 - val_loss: 0.1378 - val_accuracy: 0.9587\n",
      "Epoch 88/100\n",
      "48/48 [==============================] - 0s 2ms/step - loss: 0.0024 - accuracy: 1.0000 - val_loss: 0.1386 - val_accuracy: 0.9587\n",
      "Epoch 89/100\n",
      "48/48 [==============================] - 0s 2ms/step - loss: 0.0023 - accuracy: 1.0000 - val_loss: 0.1392 - val_accuracy: 0.9587\n",
      "Epoch 90/100\n",
      "48/48 [==============================] - 0s 4ms/step - loss: 0.0023 - accuracy: 1.0000 - val_loss: 0.1366 - val_accuracy: 0.9587\n",
      "Epoch 91/100\n",
      "48/48 [==============================] - 0s 2ms/step - loss: 0.0023 - accuracy: 1.0000 - val_loss: 0.1369 - val_accuracy: 0.9587\n",
      "Epoch 92/100\n",
      "48/48 [==============================] - 0s 2ms/step - loss: 0.0022 - accuracy: 1.0000 - val_loss: 0.1376 - val_accuracy: 0.9587\n",
      "Epoch 93/100\n",
      "48/48 [==============================] - 0s 2ms/step - loss: 0.0022 - accuracy: 1.0000 - val_loss: 0.1367 - val_accuracy: 0.9556\n",
      "Epoch 94/100\n",
      "48/48 [==============================] - 0s 2ms/step - loss: 0.0022 - accuracy: 1.0000 - val_loss: 0.1374 - val_accuracy: 0.9524\n",
      "Epoch 95/100\n",
      "48/48 [==============================] - 0s 2ms/step - loss: 0.0021 - accuracy: 1.0000 - val_loss: 0.1395 - val_accuracy: 0.9587\n",
      "Epoch 96/100\n",
      "48/48 [==============================] - 0s 2ms/step - loss: 0.0021 - accuracy: 1.0000 - val_loss: 0.1393 - val_accuracy: 0.9587\n",
      "Epoch 97/100\n",
      "48/48 [==============================] - 0s 2ms/step - loss: 0.0021 - accuracy: 1.0000 - val_loss: 0.1392 - val_accuracy: 0.9556\n",
      "Epoch 98/100\n",
      "48/48 [==============================] - 0s 2ms/step - loss: 0.0020 - accuracy: 1.0000 - val_loss: 0.1365 - val_accuracy: 0.9587\n",
      "Epoch 99/100\n",
      "48/48 [==============================] - 0s 2ms/step - loss: 0.0020 - accuracy: 1.0000 - val_loss: 0.1382 - val_accuracy: 0.9587\n",
      "Epoch 100/100\n",
      "48/48 [==============================] - 0s 2ms/step - loss: 0.0020 - accuracy: 1.0000 - val_loss: 0.1393 - val_accuracy: 0.9556\n",
      "CPU times: user 11.2 s, sys: 1.42 s, total: 12.6 s\n",
      "Wall time: 10.6 s\n"
     ]
    }
   ],
   "source": [
    "%%time\n",
    "# Fit the model\n",
    "history = model.fit(\n",
    "    X_train,\n",
    "    y_train,\n",
    "    validation_split = 0.25,\n",
    "    batch_size = 20,\n",
    "    epochs = 100,\n",
    "    verbose = 1)"
   ]
  },
  {
   "cell_type": "code",
   "execution_count": 14,
   "metadata": {
    "id": "CQsFQY0fy-Qy"
   },
   "outputs": [
    {
     "data": {
      "text/plain": [
       "array([0, 7, 6, 9, 7, 5, 3, 6, 1, 3, 7, 7, 4, 3, 4, 1, 3, 8, 5, 3, 5, 3,\n",
       "       1, 2, 9, 6, 1, 6, 0, 1, 5, 4, 5, 0, 7, 9, 1, 1, 1, 6, 5, 9, 4, 1,\n",
       "       9, 4, 7, 7, 4, 3, 9, 4, 8, 3, 0, 9, 6, 8, 7, 2, 2, 5, 8, 7, 4, 3,\n",
       "       2, 1, 6, 9, 9, 4, 8, 9, 7, 2, 8, 6, 6, 7, 3, 0, 8, 3, 0, 1, 0, 2,\n",
       "       9, 4, 2, 3, 0, 1, 7, 7, 3, 9, 4, 5, 1, 2, 3, 8, 4, 2, 1, 2, 7, 2,\n",
       "       2, 3, 2, 5, 1, 4, 0, 8, 5, 5, 0, 1, 0, 1, 0, 9, 8, 1, 8, 1, 9, 5,\n",
       "       9, 1, 7, 5, 8, 9, 3, 6, 9, 7, 9, 5, 6, 2, 4, 3, 5, 3, 7, 4, 9, 4,\n",
       "       3, 4, 1, 6, 4, 2, 3, 1, 3, 6, 8, 5, 0, 1, 5, 0, 6, 9, 6, 4, 4, 5,\n",
       "       0, 0, 2, 6, 1, 6, 4, 1, 6, 8, 0, 9, 2, 4, 9, 0, 8, 5, 8, 9, 5, 9,\n",
       "       3, 2, 7, 6, 1, 9, 7, 5, 3, 0, 2, 0, 0, 5, 1, 9, 5, 6, 5, 5, 0, 8,\n",
       "       4, 4, 5, 7, 1, 9, 5, 7, 6, 5, 1, 1, 2, 0, 0, 0, 8, 1, 2, 2, 3, 4,\n",
       "       8, 7, 7, 6, 7, 5, 5, 5, 8, 6, 6, 8, 7, 6, 2, 6, 7, 6, 3, 2, 5, 5,\n",
       "       7, 7, 0, 5, 4, 6, 9, 5, 9, 2, 4, 6, 7, 5, 0, 4, 9, 6, 0, 5, 2, 7,\n",
       "       7, 8, 9, 3, 6, 8, 0, 7, 4, 6, 1, 9, 6, 1, 1, 1, 9, 3, 5, 8, 7, 1,\n",
       "       8, 2, 4, 3, 7, 5, 4, 3, 9, 7, 6, 8, 4, 8, 2, 8, 2, 0, 3, 4, 9, 7,\n",
       "       5, 6, 4, 6, 5, 1, 9, 6, 9, 0, 7, 2, 4, 6, 3, 1, 9, 6, 0, 3, 9, 8,\n",
       "       2, 8, 6, 7, 7, 5, 3, 9, 0, 5, 7, 7, 4, 3, 0, 6, 6, 2, 9, 5, 1, 4,\n",
       "       1, 8, 6, 2, 6, 2, 5, 8, 2, 2, 7, 8, 1, 8, 8, 5, 6, 9, 8, 6, 5, 1,\n",
       "       0, 0, 4, 6, 9, 4, 2, 5, 3, 5, 9, 0, 0, 8, 4, 4, 7, 3, 9, 1, 6, 5,\n",
       "       7, 9, 8, 1, 0, 1, 4, 8, 4, 7, 0, 6, 4, 7, 5, 2, 4, 5, 3, 8, 0, 6,\n",
       "       1, 0, 9, 1, 4, 7, 6, 4, 6, 9, 6, 3, 5, 3, 5, 0, 2, 5, 1, 6, 8, 2,\n",
       "       3, 0, 2, 7, 5, 5, 1, 3, 3, 2, 7, 1, 6, 0, 4, 8, 1, 0, 3, 3, 1, 0,\n",
       "       9, 4, 6, 1, 8, 4, 0, 4, 5, 6, 7, 4, 1, 8, 1, 2, 0, 3, 2, 3, 5, 6,\n",
       "       3, 0, 1, 4, 8, 9, 4, 5, 5, 9, 6, 0, 9, 3, 3, 5, 6, 3, 6, 1, 6, 2,\n",
       "       5, 3, 1, 0, 6, 7, 2, 4, 1, 6, 0, 2])"
      ]
     },
     "execution_count": 14,
     "metadata": {},
     "output_type": "execute_result"
    }
   ],
   "source": [
    "predictions = np.argmax(model.predict(X_test), axis = 1)\n",
    "predictions"
   ]
  },
  {
   "cell_type": "code",
   "execution_count": 15,
   "metadata": {
    "colab": {
     "base_uri": "https://localhost:8080/",
     "height": 70
    },
    "id": "7XbWCdmmy-Q0",
    "outputId": "24e9b6ce-ba9f-41de-c035-7b6fa869d690",
    "scrolled": true
   },
   "outputs": [
    {
     "name": "stdout",
     "output_type": "stream",
     "text": [
      "2/2 [==============================] - 0s 3ms/step - loss: 0.0931 - accuracy: 0.9722\n",
      "\n",
      "Test loss: 0.093112, Test accuracy: 0.972222\n"
     ]
    }
   ],
   "source": [
    "score = model.evaluate(X_test, y_test, batch_size = 315)\n",
    "print('\\nTest loss: %.6f, Test accuracy: %.6f' % tuple(score))"
   ]
  },
  {
   "cell_type": "code",
   "execution_count": 16,
   "metadata": {
    "id": "YAEoxWaNy-Q2"
   },
   "outputs": [],
   "source": [
    "def print_cm(cm):\n",
    "    c = '%%%dd ' % len('%d' % cm.max())\n",
    "    s = ' | '\n",
    "    s += ''.join([c % i for i in range(len(cm[0]))])\n",
    "    print(s)\n",
    "    print('-' * len(s))\n",
    "    for i, r in enumerate(cm):\n",
    "        s = '%d| ' % i\n",
    "        s += c * len(r)\n",
    "        print(s % tuple(r))"
   ]
  },
  {
   "cell_type": "code",
   "execution_count": 17,
   "metadata": {
    "colab": {
     "base_uri": "https://localhost:8080/",
     "height": 230
    },
    "id": "5a00OEH5y-Q4",
    "outputId": "3344a8e1-bb45-4799-9e98-2fef7e4b907f",
    "scrolled": true
   },
   "outputs": [
    {
     "name": "stdout",
     "output_type": "stream",
     "text": [
      " |  0  1  2  3  4  5  6  7  8  9 \n",
      "---------------------------------\n",
      "0| 53  0  0  0  1  0  1  0  0  0 \n",
      "1|  0 54  0  0  0  0  1  0  0  0 \n",
      "2|  0  2 47  0  0  0  0  0  0  0 \n",
      "3|  0  0  0 51  0  1  0  0  0  0 \n",
      "4|  0  0  0  0 53  1  1  0  0  0 \n",
      "5|  0  0  0  0  0 60  0  0  0  0 \n",
      "6|  0  0  0  0  1  0 60  0  0  0 \n",
      "7|  0  0  0  0  0  0  0 51  0  1 \n",
      "8|  0  3  0  0  0  0  1  0 45  0 \n",
      "9|  0  0  0  0  0  1  0  0  0 51 \n"
     ]
    }
   ],
   "source": [
    "y_test_target = np.array([x.argmax() for x in y_test])\n",
    "cm = confusion_matrix(y_test_target, predictions)\n",
    "print_cm(cm)"
   ]
  },
  {
   "cell_type": "code",
   "execution_count": 19,
   "metadata": {
    "colab": {
     "base_uri": "https://localhost:8080/",
     "height": 430
    },
    "id": "UhiEYNVqy-Q6",
    "outputId": "f2584738-9742-4c15-8735-98938107e333",
    "scrolled": true
   },
   "outputs": [
    {
     "data": {
      "image/png": "[encoded data removed]",
      "text/plain": [
       "<Figure size 1296x432 with 2 Axes>"
      ]
     },
     "metadata": {
      "needs_background": "light"
     },
     "output_type": "display_data"
    }
   ],
   "source": [
    "fig, ax = plt.subplots(1, 2, figsize = (18, 6))\n",
    "fig.subplots_adjust(left = 0.02, right = 0.98, wspace = 0.2)\n",
    "\n",
    "plt.rcParams.update({'font.size': 18})\n",
    "\n",
    "# Plot training & validation accuracy values\n",
    "ax[0].plot(history.history['accuracy'], label = 'Training')\n",
    "ax[0].plot(history.history['val_accuracy'], label = 'Validation')\n",
    "ax[0].set_title('Model accuracy')\n",
    "ax[0].set_ylabel('Accuracy')\n",
    "ax[0].set_xlabel('Epoch')\n",
    "ax[0].legend()\n",
    "\n",
    "# Plot training & validation loss values\n",
    "ax[1].plot(history.history['loss'], label = 'Training')\n",
    "ax[1].plot(history.history['val_loss'], label = 'Validation')\n",
    "ax[1].set_title('Model loss')\n",
    "ax[1].set_ylabel('Loss')\n",
    "ax[1].set_xlabel('Epoch')\n",
    "ax[1].legend()\n",
    "\n",
    "plt.show()"
   ]
  },
  {
   "cell_type": "code",
   "execution_count": 20,
   "metadata": {
    "id": "grQoh06wy-Q7"
   },
   "outputs": [],
   "source": [
    "def show_digit():\n",
    "    id = np.random.randint(len(predictions))\n",
    "    XTest = X_test[id].reshape(8, 8)\n",
    "    plt.figure(figsize = (2, 2))\n",
    "    plt.imshow(XTest, cmap = 'gray')\n",
    "    plt.title('Prediction: %d' % predictions[id])\n",
    "    plt.xticks([])\n",
    "    plt.yticks([])\n",
    "    plt.show()"
   ]
  },
  {
   "cell_type": "code",
   "execution_count": 21,
   "metadata": {
    "id": "4A6G2LEPy-Q9"
   },
   "outputs": [],
   "source": [
    "def show_10_digits():\n",
    "    fig, ax = plt.subplots(2, 5, figsize = (8, 4))\n",
    "    fig.subplots_adjust(left = 0.02, right = 0.98, top = 0.8, wspace = 0.2, hspace = 0.3)\n",
    "    fig.suptitle('Ten Predictions', fontsize = 12, fontweight = 'bold')\n",
    "\n",
    "    plt.rcParams.update({'font.size': 10})\n",
    "    \n",
    "    ids = np.random.randint(len(predictions), size = 10)\n",
    "    r = 0\n",
    "    c = 0\n",
    "    for id in ids:\n",
    "        XTest = X_test[id].reshape(8, 8)\n",
    "\n",
    "        # original image\n",
    "        ax[r, c].imshow(XTest, cmap = 'gray')\n",
    "        ax[r, c].set_title('Prediction: %d' % predictions[id])\n",
    "        ax[r, c].set_xticks([])\n",
    "        ax[r, c].set_yticks([])\n",
    "        c += 1\n",
    "        if c > 4:\n",
    "            r += 1\n",
    "            c = 0\n",
    "\n",
    "    plt.show()"
   ]
  },
  {
   "cell_type": "code",
   "execution_count": 22,
   "metadata": {
    "colab": {
     "base_uri": "https://localhost:8080/",
     "height": 165
    },
    "id": "iG9wf-bTy-Q-",
    "outputId": "2092ecd0-c4a8-4252-d4df-3f383a3d3b34"
   },
   "outputs": [
    {
     "data": {
      "image/png": "[encoded data removed]",
      "text/plain": [
       "<Figure size 144x144 with 1 Axes>"
      ]
     },
     "metadata": {},
     "output_type": "display_data"
    }
   ],
   "source": [
    "# show one\n",
    "show_digit()"
   ]
  },
  {
   "cell_type": "code",
   "execution_count": 23,
   "metadata": {
    "colab": {
     "base_uri": "https://localhost:8080/",
     "height": 281
    },
    "id": "Ue7Oo4Vxy-Q_",
    "outputId": "e6dc190e-2096-4da0-ab9c-db6d67e18e3c",
    "scrolled": true
   },
   "outputs": [
    {
     "data": {
      "image/png": "[encoded data removed]",
      "text/plain": [
       "<Figure size 576x288 with 10 Axes>"
      ]
     },
     "metadata": {},
     "output_type": "display_data"
    }
   ],
   "source": [
    "# show ten\n",
    "show_10_digits()"
   ]
  },
  {
   "cell_type": "markdown",
   "metadata": {
    "id": "RERADKgNFq9T"
   },
   "source": [
    "\n",
    "\n",
    "---\n",
    "\n",
    "\n",
    "\n",
    "---\n",
    "\n",
    "\n",
    "\n",
    "> > > > > > > > > © 2021 Institute of Data\n",
    "\n",
    "\n",
    "---\n",
    "\n",
    "\n",
    "\n",
    "---"
   ]
  }
 ],
 "metadata": {
  "accelerator": "GPU",
  "colab": {
   "collapsed_sections": [],
   "name": "IOD_Demo-9-Keras.ipynb",
   "provenance": []
  },
  "kernelspec": {
   "display_name": "Python [conda env:Tensorflow]",
   "language": "python",
   "name": "conda-env-Tensorflow-py"
  },
  "language_info": {
   "codemirror_mode": {
    "name": "ipython",
    "version": 3
   },
   "file_extension": ".py",
   "mimetype": "text/x-python",
   "name": "python",
   "nbconvert_exporter": "python",
   "pygments_lexer": "ipython3",
   "version": "3.8.11"
  }
 },
 "nbformat": 4,
 "nbformat_minor": 1
}
