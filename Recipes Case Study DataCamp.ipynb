{
 "cells": [
  {
   "cell_type": "markdown",
   "metadata": {
    "id": "--qW5WLvLnD4"
   },
   "source": [
    "### DataCamp Certification Case Study\n",
    "\n",
    "Project Brief\n",
    "\n",
    "Tasty Bytes , an online recipe startup, has hired you as a data scientist. The website features new recipes on the homepage every day. The owner has told you that on days that they feature a popular recipe, traffic increases by as much as 40%. However, it is difficult to predict in advance which recipes will be popular or not.\n",
    "\n",
    "The data team has collected data from previously published recipes. The owner wants to know whether you can use this information to predict whether a recipe will be popular (or in other words, receive a high score). She is especially interested in preventing unpopular (low-scoring) recipes from appearing on the homepage. She estimates that of all unpopular recipes, they currently correctly categorize 75% of them as being unpopular. She wants to know how your solution would compare to this guessing approach.\n",
    "\n",
    "You will need to present your findings in two formats:\n",
    "\n",
    "You must submit a written report summarising your analysis to your manager. As a data science manager, your manager has a strong technical background and wants to understand what you have done and why.\n",
    "You will then need to share your findings with the owner in a 10 minute presentation. The owner has no data science background but is familiar with basic data related terminology.\n",
    "The data you will use for this analysis can be accessed here: \"data/recipes.csv\""
   ]
  },
  {
   "cell_type": "markdown",
   "metadata": {
    "id": "j30mwzmNIRX1"
   },
   "source": [
    "#**1. MOUNT DRIVE AND IMPORT LIBRARY**"
   ]
  },
  {
   "cell_type": "code",
   "execution_count": 1,
   "metadata": {
    "id": "ELPgno8TIwsk"
   },
   "outputs": [],
   "source": [
    "# Import Library\n",
    "import numpy\n",
    "import copy\n",
    "from numpy import arange\n",
    "from matplotlib import pyplot\n",
    "from pandas import read_csv\n",
    "from pandas import set_option\n",
    "\n",
    "from sklearn.preprocessing import StandardScaler\n",
    "from sklearn.model_selection import train_test_split\n",
    "from sklearn.model_selection import cross_val_score\n",
    "from sklearn.metrics import accuracy_score\n",
    "from sklearn.model_selection import GridSearchCV\n",
    "from sklearn.pipeline import Pipeline\n",
    "\n",
    "from sklearn.linear_model import SGDClassifier\n",
    "from sklearn.tree import DecisionTreeClassifier\n",
    "from sklearn.linear_model import LogisticRegression\n",
    "from sklearn.discriminant_analysis import LinearDiscriminantAnalysis\n",
    "from sklearn.naive_bayes import GaussianNB\n",
    "\n",
    "from sklearn.ensemble import RandomForestClassifier\n",
    "from sklearn.ensemble import GradientBoostingClassifier\n",
    "from sklearn.ensemble import ExtraTreesClassifier\n",
    "from sklearn.ensemble import AdaBoostClassifier\n",
    "\n",
    "from sklearn.neighbors import NearestNeighbors\n",
    "from sklearn.metrics import mean_squared_error\n",
    "from sklearn.svm import SVC\n",
    "from collections import Counter\n",
    "from sklearn.model_selection import KFold\n",
    "import seaborn as sns\n",
    "import matplotlib.pyplot as plt\n",
    "from sklearn.metrics import classification_report\n",
    "from sklearn.metrics import confusion_matrix"
   ]
  },
  {
   "cell_type": "code",
   "execution_count": 2,
   "metadata": {
    "id": "ELPgno8TIwsk"
   },
   "outputs": [],
   "source": [
    "# Import Library\n",
    "import numpy\n",
    "import copy\n",
    "from numpy import arange\n",
    "from matplotlib import pyplot\n",
    "from pandas import read_csv\n",
    "from pandas import set_option\n",
    "\n",
    "from sklearn.preprocessing import StandardScaler\n",
    "from sklearn.model_selection import train_test_split\n",
    "from sklearn.model_selection import cross_val_score\n",
    "from sklearn.metrics import accuracy_score\n",
    "from sklearn.model_selection import GridSearchCV\n",
    "from sklearn.pipeline import Pipeline\n",
    "\n",
    "from sklearn.linear_model import SGDClassifier\n",
    "from sklearn.tree import DecisionTreeClassifier\n",
    "from sklearn.linear_model import LogisticRegression\n",
    "from sklearn.discriminant_analysis import LinearDiscriminantAnalysis\n",
    "from sklearn.naive_bayes import GaussianNB\n",
    "\n",
    "from sklearn.ensemble import RandomForestClassifier\n",
    "from sklearn.ensemble import GradientBoostingClassifier\n",
    "from sklearn.ensemble import ExtraTreesClassifier\n",
    "from sklearn.ensemble import AdaBoostClassifier\n",
    "\n",
    "from sklearn.neighbors import NearestNeighbors\n",
    "from sklearn.metrics import mean_squared_error\n",
    "from sklearn.svm import SVC\n",
    "from collections import Counter\n",
    "from sklearn.model_selection import KFold\n",
    "import seaborn as sns\n",
    "import matplotlib.pyplot as plt\n",
    "from sklearn.metrics import classification_report\n",
    "from sklearn.metrics import confusion_matrix"
   ]
  },
  {
   "cell_type": "markdown",
   "metadata": {
    "id": "v-uaPntRJXpr"
   },
   "source": [
    "#**2. DATA LOADING AND OVERVIEW**"
   ]
  },
  {
   "cell_type": "code",
   "execution_count": 2,
   "metadata": {
    "id": "0BwHfJ3kJfGj"
   },
   "outputs": [],
   "source": [
    "dataFrame = read_csv('recipes.csv')"
   ]
  },
  {
   "cell_type": "code",
   "execution_count": 3,
   "metadata": {
    "colab": {
     "base_uri": "https://localhost:8080/"
    },
    "id": "0m9l21J5N2Ia",
    "outputId": "0949dd71-2b51-4c2d-a045-e4c0c8f732e9"
   },
   "outputs": [
    {
     "data": {
      "text/plain": [
       "(43092, 10)"
      ]
     },
     "execution_count": 3,
     "metadata": {},
     "output_type": "execute_result"
    }
   ],
   "source": [
    "dataFrame.shape"
   ]
  },
  {
   "cell_type": "code",
   "execution_count": 4,
   "metadata": {
    "colab": {
     "base_uri": "https://localhost:8080/",
     "height": 343
    },
    "id": "lbtFIllrN0si",
    "outputId": "81bbc500-c496-44d1-daf2-e707a6ca069a"
   },
   "outputs": [
    {
     "data": {
      "text/html": [
       "<div>\n",
       "<style scoped>\n",
       "    .dataframe tbody tr th:only-of-type {\n",
       "        vertical-align: middle;\n",
       "    }\n",
       "\n",
       "    .dataframe tbody tr th {\n",
       "        vertical-align: top;\n",
       "    }\n",
       "\n",
       "    .dataframe thead th {\n",
       "        text-align: right;\n",
       "    }\n",
       "</style>\n",
       "<table border=\"1\" class=\"dataframe\">\n",
       "  <thead>\n",
       "    <tr style=\"text-align: right;\">\n",
       "      <th></th>\n",
       "      <th>RecipeId</th>\n",
       "      <th>Name</th>\n",
       "      <th>RecipeCategory</th>\n",
       "      <th>Calories</th>\n",
       "      <th>CholesterolContent</th>\n",
       "      <th>CarbohydrateContent</th>\n",
       "      <th>SugarContent</th>\n",
       "      <th>ProteinContent</th>\n",
       "      <th>RecipeServings</th>\n",
       "      <th>HighScore</th>\n",
       "    </tr>\n",
       "  </thead>\n",
       "  <tbody>\n",
       "    <tr>\n",
       "      <th>0</th>\n",
       "      <td>46085</td>\n",
       "      <td>Crock Pot Baked Potato Soup</td>\n",
       "      <td>One Dish Meal</td>\n",
       "      <td>699.8</td>\n",
       "      <td>137.3</td>\n",
       "      <td>46.1</td>\n",
       "      <td>1.4</td>\n",
       "      <td>20.9</td>\n",
       "      <td>6.0</td>\n",
       "      <td>1.0</td>\n",
       "    </tr>\n",
       "    <tr>\n",
       "      <th>1</th>\n",
       "      <td>93832</td>\n",
       "      <td>Frittata Di Spaghetti (spaghetti Frittata)</td>\n",
       "      <td>Breakfast</td>\n",
       "      <td>297.1</td>\n",
       "      <td>191.8</td>\n",
       "      <td>11.7</td>\n",
       "      <td>0.7</td>\n",
       "      <td>12.2</td>\n",
       "      <td>8.0</td>\n",
       "      <td>1.0</td>\n",
       "    </tr>\n",
       "    <tr>\n",
       "      <th>2</th>\n",
       "      <td>36034</td>\n",
       "      <td>Berries With Italian Cream</td>\n",
       "      <td>Dessert</td>\n",
       "      <td>131.9</td>\n",
       "      <td>23.3</td>\n",
       "      <td>10.3</td>\n",
       "      <td>4.4</td>\n",
       "      <td>9.1</td>\n",
       "      <td>6.0</td>\n",
       "      <td>0.0</td>\n",
       "    </tr>\n",
       "    <tr>\n",
       "      <th>3</th>\n",
       "      <td>329988</td>\n",
       "      <td>Pork Tenderloin Medallions With Fresh Figs</td>\n",
       "      <td>&lt; 15 Mins</td>\n",
       "      <td>203.0</td>\n",
       "      <td>74.8</td>\n",
       "      <td>1.5</td>\n",
       "      <td>0.6</td>\n",
       "      <td>23.3</td>\n",
       "      <td>4.0</td>\n",
       "      <td>1.0</td>\n",
       "    </tr>\n",
       "    <tr>\n",
       "      <th>4</th>\n",
       "      <td>59886</td>\n",
       "      <td>Kaseropita (Tiropita Using Kaseri Cheese)</td>\n",
       "      <td>Savory Pies</td>\n",
       "      <td>261.6</td>\n",
       "      <td>103.6</td>\n",
       "      <td>20.9</td>\n",
       "      <td>0.2</td>\n",
       "      <td>6.7</td>\n",
       "      <td>15.0</td>\n",
       "      <td>1.0</td>\n",
       "    </tr>\n",
       "  </tbody>\n",
       "</table>\n",
       "</div>"
      ],
      "text/plain": [
       "   RecipeId                                        Name RecipeCategory  \\\n",
       "0     46085                 Crock Pot Baked Potato Soup  One Dish Meal   \n",
       "1     93832  Frittata Di Spaghetti (spaghetti Frittata)      Breakfast   \n",
       "2     36034                  Berries With Italian Cream        Dessert   \n",
       "3    329988  Pork Tenderloin Medallions With Fresh Figs      < 15 Mins   \n",
       "4     59886   Kaseropita (Tiropita Using Kaseri Cheese)    Savory Pies   \n",
       "\n",
       "   Calories  CholesterolContent  CarbohydrateContent  SugarContent  \\\n",
       "0     699.8               137.3                 46.1           1.4   \n",
       "1     297.1               191.8                 11.7           0.7   \n",
       "2     131.9                23.3                 10.3           4.4   \n",
       "3     203.0                74.8                  1.5           0.6   \n",
       "4     261.6               103.6                 20.9           0.2   \n",
       "\n",
       "   ProteinContent  RecipeServings  HighScore  \n",
       "0            20.9             6.0        1.0  \n",
       "1            12.2             8.0        1.0  \n",
       "2             9.1             6.0        0.0  \n",
       "3            23.3             4.0        1.0  \n",
       "4             6.7            15.0        1.0  "
      ]
     },
     "execution_count": 4,
     "metadata": {},
     "output_type": "execute_result"
    }
   ],
   "source": [
    "dataFrame.head()"
   ]
  },
  {
   "cell_type": "code",
   "execution_count": 5,
   "metadata": {
    "colab": {
     "base_uri": "https://localhost:8080/"
    },
    "id": "vUTSwdw1SGKF",
    "outputId": "48d87e61-ce69-4731-a589-4ff55db9668b"
   },
   "outputs": [
    {
     "name": "stdout",
     "output_type": "stream",
     "text": [
      "<class 'pandas.core.frame.DataFrame'>\n",
      "RangeIndex: 43092 entries, 0 to 43091\n",
      "Data columns (total 10 columns):\n",
      " #   Column               Non-Null Count  Dtype  \n",
      "---  ------               --------------  -----  \n",
      " 0   RecipeId             43092 non-null  int64  \n",
      " 1   Name                 43092 non-null  object \n",
      " 2   RecipeCategory       43052 non-null  object \n",
      " 3   Calories             43092 non-null  float64\n",
      " 4   CholesterolContent   43092 non-null  float64\n",
      " 5   CarbohydrateContent  43092 non-null  float64\n",
      " 6   SugarContent         43092 non-null  float64\n",
      " 7   ProteinContent       43092 non-null  float64\n",
      " 8   RecipeServings       43092 non-null  float64\n",
      " 9   HighScore            43092 non-null  float64\n",
      "dtypes: float64(7), int64(1), object(2)\n",
      "memory usage: 3.3+ MB\n"
     ]
    }
   ],
   "source": [
    "dataFrame.info()"
   ]
  },
  {
   "cell_type": "code",
   "execution_count": 6,
   "metadata": {
    "colab": {
     "base_uri": "https://localhost:8080/",
     "height": 351
    },
    "id": "_0nyg1q7SYEz",
    "outputId": "cec69b82-6a9f-4a11-b90e-e23e0a2700f2"
   },
   "outputs": [
    {
     "data": {
      "text/html": [
       "<div>\n",
       "<style scoped>\n",
       "    .dataframe tbody tr th:only-of-type {\n",
       "        vertical-align: middle;\n",
       "    }\n",
       "\n",
       "    .dataframe tbody tr th {\n",
       "        vertical-align: top;\n",
       "    }\n",
       "\n",
       "    .dataframe thead th {\n",
       "        text-align: right;\n",
       "    }\n",
       "</style>\n",
       "<table border=\"1\" class=\"dataframe\">\n",
       "  <thead>\n",
       "    <tr style=\"text-align: right;\">\n",
       "      <th></th>\n",
       "      <th>RecipeId</th>\n",
       "      <th>Calories</th>\n",
       "      <th>CholesterolContent</th>\n",
       "      <th>CarbohydrateContent</th>\n",
       "      <th>SugarContent</th>\n",
       "      <th>ProteinContent</th>\n",
       "      <th>RecipeServings</th>\n",
       "      <th>HighScore</th>\n",
       "    </tr>\n",
       "  </thead>\n",
       "  <tbody>\n",
       "    <tr>\n",
       "      <th>count</th>\n",
       "      <td>43092.000000</td>\n",
       "      <td>43092.000000</td>\n",
       "      <td>43092.000000</td>\n",
       "      <td>43092.000000</td>\n",
       "      <td>43092.000000</td>\n",
       "      <td>43092.000000</td>\n",
       "      <td>43092.000000</td>\n",
       "      <td>43092.000000</td>\n",
       "    </tr>\n",
       "    <tr>\n",
       "      <th>mean</th>\n",
       "      <td>224707.928154</td>\n",
       "      <td>353.297587</td>\n",
       "      <td>69.475757</td>\n",
       "      <td>32.844187</td>\n",
       "      <td>12.206600</td>\n",
       "      <td>15.773125</td>\n",
       "      <td>9.517521</td>\n",
       "      <td>0.645735</td>\n",
       "    </tr>\n",
       "    <tr>\n",
       "      <th>std</th>\n",
       "      <td>141980.914350</td>\n",
       "      <td>405.065683</td>\n",
       "      <td>112.422309</td>\n",
       "      <td>46.428258</td>\n",
       "      <td>28.304371</td>\n",
       "      <td>21.588594</td>\n",
       "      <td>224.022873</td>\n",
       "      <td>0.478296</td>\n",
       "    </tr>\n",
       "    <tr>\n",
       "      <th>min</th>\n",
       "      <td>38.000000</td>\n",
       "      <td>0.000000</td>\n",
       "      <td>0.000000</td>\n",
       "      <td>0.000000</td>\n",
       "      <td>0.000000</td>\n",
       "      <td>0.000000</td>\n",
       "      <td>1.000000</td>\n",
       "      <td>0.000000</td>\n",
       "    </tr>\n",
       "    <tr>\n",
       "      <th>25%</th>\n",
       "      <td>102616.750000</td>\n",
       "      <td>164.800000</td>\n",
       "      <td>4.500000</td>\n",
       "      <td>11.600000</td>\n",
       "      <td>2.200000</td>\n",
       "      <td>3.400000</td>\n",
       "      <td>4.000000</td>\n",
       "      <td>0.000000</td>\n",
       "    </tr>\n",
       "    <tr>\n",
       "      <th>50%</th>\n",
       "      <td>212333.000000</td>\n",
       "      <td>284.100000</td>\n",
       "      <td>40.700000</td>\n",
       "      <td>25.400000</td>\n",
       "      <td>5.500000</td>\n",
       "      <td>8.800000</td>\n",
       "      <td>6.000000</td>\n",
       "      <td>1.000000</td>\n",
       "    </tr>\n",
       "    <tr>\n",
       "      <th>75%</th>\n",
       "      <td>336736.250000</td>\n",
       "      <td>446.725000</td>\n",
       "      <td>95.900000</td>\n",
       "      <td>43.400000</td>\n",
       "      <td>14.100000</td>\n",
       "      <td>24.300000</td>\n",
       "      <td>8.000000</td>\n",
       "      <td>1.000000</td>\n",
       "    </tr>\n",
       "    <tr>\n",
       "      <th>max</th>\n",
       "      <td>540876.000000</td>\n",
       "      <td>30933.400000</td>\n",
       "      <td>9167.200000</td>\n",
       "      <td>3564.400000</td>\n",
       "      <td>2566.800000</td>\n",
       "      <td>1420.800000</td>\n",
       "      <td>32767.000000</td>\n",
       "      <td>1.000000</td>\n",
       "    </tr>\n",
       "  </tbody>\n",
       "</table>\n",
       "</div>"
      ],
      "text/plain": [
       "            RecipeId      Calories  CholesterolContent  CarbohydrateContent  \\\n",
       "count   43092.000000  43092.000000        43092.000000         43092.000000   \n",
       "mean   224707.928154    353.297587           69.475757            32.844187   \n",
       "std    141980.914350    405.065683          112.422309            46.428258   \n",
       "min        38.000000      0.000000            0.000000             0.000000   \n",
       "25%    102616.750000    164.800000            4.500000            11.600000   \n",
       "50%    212333.000000    284.100000           40.700000            25.400000   \n",
       "75%    336736.250000    446.725000           95.900000            43.400000   \n",
       "max    540876.000000  30933.400000         9167.200000          3564.400000   \n",
       "\n",
       "       SugarContent  ProteinContent  RecipeServings     HighScore  \n",
       "count  43092.000000    43092.000000    43092.000000  43092.000000  \n",
       "mean      12.206600       15.773125        9.517521      0.645735  \n",
       "std       28.304371       21.588594      224.022873      0.478296  \n",
       "min        0.000000        0.000000        1.000000      0.000000  \n",
       "25%        2.200000        3.400000        4.000000      0.000000  \n",
       "50%        5.500000        8.800000        6.000000      1.000000  \n",
       "75%       14.100000       24.300000        8.000000      1.000000  \n",
       "max     2566.800000     1420.800000    32767.000000      1.000000  "
      ]
     },
     "execution_count": 6,
     "metadata": {},
     "output_type": "execute_result"
    }
   ],
   "source": [
    "dataFrame.describe()"
   ]
  },
  {
   "cell_type": "markdown",
   "metadata": {
    "id": "iZbgK2SfU5-9"
   },
   "source": [
    "**I think id column won't effect to results, so i will delete it!!!**"
   ]
  },
  {
   "cell_type": "code",
   "execution_count": 7,
   "metadata": {
    "colab": {
     "base_uri": "https://localhost:8080/",
     "height": 343
    },
    "id": "9_UWsoDzWYp4",
    "outputId": "5fda6f71-1dcd-44e1-bcf7-80cc01bdbd5d"
   },
   "outputs": [
    {
     "data": {
      "text/html": [
       "<div>\n",
       "<style scoped>\n",
       "    .dataframe tbody tr th:only-of-type {\n",
       "        vertical-align: middle;\n",
       "    }\n",
       "\n",
       "    .dataframe tbody tr th {\n",
       "        vertical-align: top;\n",
       "    }\n",
       "\n",
       "    .dataframe thead th {\n",
       "        text-align: right;\n",
       "    }\n",
       "</style>\n",
       "<table border=\"1\" class=\"dataframe\">\n",
       "  <thead>\n",
       "    <tr style=\"text-align: right;\">\n",
       "      <th></th>\n",
       "      <th>RecipeCategory</th>\n",
       "      <th>Calories</th>\n",
       "      <th>CholesterolContent</th>\n",
       "      <th>CarbohydrateContent</th>\n",
       "      <th>SugarContent</th>\n",
       "      <th>ProteinContent</th>\n",
       "      <th>RecipeServings</th>\n",
       "      <th>HighScore</th>\n",
       "    </tr>\n",
       "  </thead>\n",
       "  <tbody>\n",
       "    <tr>\n",
       "      <th>0</th>\n",
       "      <td>One Dish Meal</td>\n",
       "      <td>699.8</td>\n",
       "      <td>137.3</td>\n",
       "      <td>46.1</td>\n",
       "      <td>1.4</td>\n",
       "      <td>20.9</td>\n",
       "      <td>6.0</td>\n",
       "      <td>1.0</td>\n",
       "    </tr>\n",
       "    <tr>\n",
       "      <th>1</th>\n",
       "      <td>Breakfast</td>\n",
       "      <td>297.1</td>\n",
       "      <td>191.8</td>\n",
       "      <td>11.7</td>\n",
       "      <td>0.7</td>\n",
       "      <td>12.2</td>\n",
       "      <td>8.0</td>\n",
       "      <td>1.0</td>\n",
       "    </tr>\n",
       "    <tr>\n",
       "      <th>2</th>\n",
       "      <td>Dessert</td>\n",
       "      <td>131.9</td>\n",
       "      <td>23.3</td>\n",
       "      <td>10.3</td>\n",
       "      <td>4.4</td>\n",
       "      <td>9.1</td>\n",
       "      <td>6.0</td>\n",
       "      <td>0.0</td>\n",
       "    </tr>\n",
       "    <tr>\n",
       "      <th>3</th>\n",
       "      <td>&lt; 15 Mins</td>\n",
       "      <td>203.0</td>\n",
       "      <td>74.8</td>\n",
       "      <td>1.5</td>\n",
       "      <td>0.6</td>\n",
       "      <td>23.3</td>\n",
       "      <td>4.0</td>\n",
       "      <td>1.0</td>\n",
       "    </tr>\n",
       "    <tr>\n",
       "      <th>4</th>\n",
       "      <td>Savory Pies</td>\n",
       "      <td>261.6</td>\n",
       "      <td>103.6</td>\n",
       "      <td>20.9</td>\n",
       "      <td>0.2</td>\n",
       "      <td>6.7</td>\n",
       "      <td>15.0</td>\n",
       "      <td>1.0</td>\n",
       "    </tr>\n",
       "  </tbody>\n",
       "</table>\n",
       "</div>"
      ],
      "text/plain": [
       "  RecipeCategory  Calories  CholesterolContent  CarbohydrateContent  \\\n",
       "0  One Dish Meal     699.8               137.3                 46.1   \n",
       "1      Breakfast     297.1               191.8                 11.7   \n",
       "2        Dessert     131.9                23.3                 10.3   \n",
       "3      < 15 Mins     203.0                74.8                  1.5   \n",
       "4    Savory Pies     261.6               103.6                 20.9   \n",
       "\n",
       "   SugarContent  ProteinContent  RecipeServings  HighScore  \n",
       "0           1.4            20.9             6.0        1.0  \n",
       "1           0.7            12.2             8.0        1.0  \n",
       "2           4.4             9.1             6.0        0.0  \n",
       "3           0.6            23.3             4.0        1.0  \n",
       "4           0.2             6.7            15.0        1.0  "
      ]
     },
     "execution_count": 7,
     "metadata": {},
     "output_type": "execute_result"
    }
   ],
   "source": [
    "dataFrame = dataFrame.drop(['RecipeId', 'Name'], axis=1)\n",
    "dataFrame.head()"
   ]
  },
  {
   "cell_type": "code",
   "execution_count": 8,
   "metadata": {},
   "outputs": [
    {
     "name": "stdout",
     "output_type": "stream",
     "text": [
      "<class 'pandas.core.frame.DataFrame'>\n",
      "RangeIndex: 43092 entries, 0 to 43091\n",
      "Data columns (total 8 columns):\n",
      " #   Column               Non-Null Count  Dtype  \n",
      "---  ------               --------------  -----  \n",
      " 0   RecipeCategory       43052 non-null  object \n",
      " 1   Calories             43092 non-null  float64\n",
      " 2   CholesterolContent   43092 non-null  float64\n",
      " 3   CarbohydrateContent  43092 non-null  float64\n",
      " 4   SugarContent         43092 non-null  float64\n",
      " 5   ProteinContent       43092 non-null  float64\n",
      " 6   RecipeServings       43092 non-null  float64\n",
      " 7   HighScore            43092 non-null  float64\n",
      "dtypes: float64(7), object(1)\n",
      "memory usage: 2.6+ MB\n"
     ]
    }
   ],
   "source": [
    "dataFrame.info()"
   ]
  },
  {
   "cell_type": "code",
   "execution_count": 9,
   "metadata": {},
   "outputs": [],
   "source": [
    "# Import LabelEncoder\n",
    "from sklearn.preprocessing import LabelEncoder\n",
    "# Instantiate LabelEncoder\n",
    "le = LabelEncoder()\n",
    "# Iterate over all the values of each column and extract their dtypes\n",
    "for col in dataFrame:\n",
    "    # Compare if the dtype is object\n",
    "    if dataFrame[col].dtypes=='object':\n",
    "    # Use LabelEncoder to do the numeric transformation\n",
    "        dataFrame[col]=le.fit_transform(dataFrame[col]) "
   ]
  },
  {
   "cell_type": "code",
   "execution_count": 10,
   "metadata": {},
   "outputs": [
    {
     "data": {
      "text/html": [
       "<div>\n",
       "<style scoped>\n",
       "    .dataframe tbody tr th:only-of-type {\n",
       "        vertical-align: middle;\n",
       "    }\n",
       "\n",
       "    .dataframe tbody tr th {\n",
       "        vertical-align: top;\n",
       "    }\n",
       "\n",
       "    .dataframe thead th {\n",
       "        text-align: right;\n",
       "    }\n",
       "</style>\n",
       "<table border=\"1\" class=\"dataframe\">\n",
       "  <thead>\n",
       "    <tr style=\"text-align: right;\">\n",
       "      <th></th>\n",
       "      <th>RecipeCategory</th>\n",
       "      <th>Calories</th>\n",
       "      <th>CholesterolContent</th>\n",
       "      <th>CarbohydrateContent</th>\n",
       "      <th>SugarContent</th>\n",
       "      <th>ProteinContent</th>\n",
       "      <th>RecipeServings</th>\n",
       "      <th>HighScore</th>\n",
       "    </tr>\n",
       "  </thead>\n",
       "  <tbody>\n",
       "    <tr>\n",
       "      <th>0</th>\n",
       "      <td>144</td>\n",
       "      <td>699.8</td>\n",
       "      <td>137.3</td>\n",
       "      <td>46.1</td>\n",
       "      <td>1.4</td>\n",
       "      <td>20.9</td>\n",
       "      <td>6.0</td>\n",
       "      <td>1.0</td>\n",
       "    </tr>\n",
       "    <tr>\n",
       "      <th>1</th>\n",
       "      <td>24</td>\n",
       "      <td>297.1</td>\n",
       "      <td>191.8</td>\n",
       "      <td>11.7</td>\n",
       "      <td>0.7</td>\n",
       "      <td>12.2</td>\n",
       "      <td>8.0</td>\n",
       "      <td>1.0</td>\n",
       "    </tr>\n",
       "    <tr>\n",
       "      <th>2</th>\n",
       "      <td>63</td>\n",
       "      <td>131.9</td>\n",
       "      <td>23.3</td>\n",
       "      <td>10.3</td>\n",
       "      <td>4.4</td>\n",
       "      <td>9.1</td>\n",
       "      <td>6.0</td>\n",
       "      <td>0.0</td>\n",
       "    </tr>\n",
       "    <tr>\n",
       "      <th>3</th>\n",
       "      <td>0</td>\n",
       "      <td>203.0</td>\n",
       "      <td>74.8</td>\n",
       "      <td>1.5</td>\n",
       "      <td>0.6</td>\n",
       "      <td>23.3</td>\n",
       "      <td>4.0</td>\n",
       "      <td>1.0</td>\n",
       "    </tr>\n",
       "    <tr>\n",
       "      <th>4</th>\n",
       "      <td>185</td>\n",
       "      <td>261.6</td>\n",
       "      <td>103.6</td>\n",
       "      <td>20.9</td>\n",
       "      <td>0.2</td>\n",
       "      <td>6.7</td>\n",
       "      <td>15.0</td>\n",
       "      <td>1.0</td>\n",
       "    </tr>\n",
       "    <tr>\n",
       "      <th>...</th>\n",
       "      <td>...</td>\n",
       "      <td>...</td>\n",
       "      <td>...</td>\n",
       "      <td>...</td>\n",
       "      <td>...</td>\n",
       "      <td>...</td>\n",
       "      <td>...</td>\n",
       "      <td>...</td>\n",
       "    </tr>\n",
       "    <tr>\n",
       "      <th>43087</th>\n",
       "      <td>125</td>\n",
       "      <td>281.5</td>\n",
       "      <td>111.3</td>\n",
       "      <td>13.2</td>\n",
       "      <td>11.1</td>\n",
       "      <td>25.3</td>\n",
       "      <td>6.0</td>\n",
       "      <td>1.0</td>\n",
       "    </tr>\n",
       "    <tr>\n",
       "      <th>43088</th>\n",
       "      <td>110</td>\n",
       "      <td>697.2</td>\n",
       "      <td>242.1</td>\n",
       "      <td>3.8</td>\n",
       "      <td>1.9</td>\n",
       "      <td>72.9</td>\n",
       "      <td>4.0</td>\n",
       "      <td>0.0</td>\n",
       "    </tr>\n",
       "    <tr>\n",
       "      <th>43089</th>\n",
       "      <td>65</td>\n",
       "      <td>94.5</td>\n",
       "      <td>0.0</td>\n",
       "      <td>22.7</td>\n",
       "      <td>19.1</td>\n",
       "      <td>2.0</td>\n",
       "      <td>14.0</td>\n",
       "      <td>1.0</td>\n",
       "    </tr>\n",
       "    <tr>\n",
       "      <th>43090</th>\n",
       "      <td>42</td>\n",
       "      <td>207.1</td>\n",
       "      <td>72.6</td>\n",
       "      <td>20.1</td>\n",
       "      <td>12.7</td>\n",
       "      <td>24.9</td>\n",
       "      <td>4.0</td>\n",
       "      <td>1.0</td>\n",
       "    </tr>\n",
       "    <tr>\n",
       "      <th>43091</th>\n",
       "      <td>42</td>\n",
       "      <td>296.4</td>\n",
       "      <td>47.4</td>\n",
       "      <td>24.4</td>\n",
       "      <td>3.9</td>\n",
       "      <td>15.2</td>\n",
       "      <td>3.0</td>\n",
       "      <td>1.0</td>\n",
       "    </tr>\n",
       "  </tbody>\n",
       "</table>\n",
       "<p>43092 rows × 8 columns</p>\n",
       "</div>"
      ],
      "text/plain": [
       "       RecipeCategory  Calories  CholesterolContent  CarbohydrateContent  \\\n",
       "0                 144     699.8               137.3                 46.1   \n",
       "1                  24     297.1               191.8                 11.7   \n",
       "2                  63     131.9                23.3                 10.3   \n",
       "3                   0     203.0                74.8                  1.5   \n",
       "4                 185     261.6               103.6                 20.9   \n",
       "...               ...       ...                 ...                  ...   \n",
       "43087             125     281.5               111.3                 13.2   \n",
       "43088             110     697.2               242.1                  3.8   \n",
       "43089              65      94.5                 0.0                 22.7   \n",
       "43090              42     207.1                72.6                 20.1   \n",
       "43091              42     296.4                47.4                 24.4   \n",
       "\n",
       "       SugarContent  ProteinContent  RecipeServings  HighScore  \n",
       "0               1.4            20.9             6.0        1.0  \n",
       "1               0.7            12.2             8.0        1.0  \n",
       "2               4.4             9.1             6.0        0.0  \n",
       "3               0.6            23.3             4.0        1.0  \n",
       "4               0.2             6.7            15.0        1.0  \n",
       "...             ...             ...             ...        ...  \n",
       "43087          11.1            25.3             6.0        1.0  \n",
       "43088           1.9            72.9             4.0        0.0  \n",
       "43089          19.1             2.0            14.0        1.0  \n",
       "43090          12.7            24.9             4.0        1.0  \n",
       "43091           3.9            15.2             3.0        1.0  \n",
       "\n",
       "[43092 rows x 8 columns]"
      ]
     },
     "execution_count": 10,
     "metadata": {},
     "output_type": "execute_result"
    }
   ],
   "source": [
    "dataFrame"
   ]
  },
  {
   "cell_type": "code",
   "execution_count": 11,
   "metadata": {
    "colab": {
     "base_uri": "https://localhost:8080/",
     "height": 473
    },
    "id": "QXnkzzQh6Cd5",
    "outputId": "85b00029-c270-459e-cf85-2e97e57a2d3d"
   },
   "outputs": [
    {
     "data": {
      "text/html": [
       "<div>\n",
       "<style scoped>\n",
       "    .dataframe tbody tr th:only-of-type {\n",
       "        vertical-align: middle;\n",
       "    }\n",
       "\n",
       "    .dataframe tbody tr th {\n",
       "        vertical-align: top;\n",
       "    }\n",
       "\n",
       "    .dataframe thead th {\n",
       "        text-align: right;\n",
       "    }\n",
       "</style>\n",
       "<table border=\"1\" class=\"dataframe\">\n",
       "  <thead>\n",
       "    <tr style=\"text-align: right;\">\n",
       "      <th></th>\n",
       "      <th>RecipeCategory</th>\n",
       "      <th>Calories</th>\n",
       "      <th>CholesterolContent</th>\n",
       "      <th>CarbohydrateContent</th>\n",
       "      <th>SugarContent</th>\n",
       "      <th>ProteinContent</th>\n",
       "      <th>RecipeServings</th>\n",
       "      <th>HighScore</th>\n",
       "    </tr>\n",
       "  </thead>\n",
       "  <tbody>\n",
       "    <tr>\n",
       "      <th>0</th>\n",
       "      <td>144</td>\n",
       "      <td>699.8</td>\n",
       "      <td>137.3</td>\n",
       "      <td>46.1</td>\n",
       "      <td>1.4</td>\n",
       "      <td>20.9</td>\n",
       "      <td>6.0</td>\n",
       "      <td>1</td>\n",
       "    </tr>\n",
       "    <tr>\n",
       "      <th>1</th>\n",
       "      <td>24</td>\n",
       "      <td>297.1</td>\n",
       "      <td>191.8</td>\n",
       "      <td>11.7</td>\n",
       "      <td>0.7</td>\n",
       "      <td>12.2</td>\n",
       "      <td>8.0</td>\n",
       "      <td>1</td>\n",
       "    </tr>\n",
       "    <tr>\n",
       "      <th>2</th>\n",
       "      <td>63</td>\n",
       "      <td>131.9</td>\n",
       "      <td>23.3</td>\n",
       "      <td>10.3</td>\n",
       "      <td>4.4</td>\n",
       "      <td>9.1</td>\n",
       "      <td>6.0</td>\n",
       "      <td>0</td>\n",
       "    </tr>\n",
       "    <tr>\n",
       "      <th>3</th>\n",
       "      <td>0</td>\n",
       "      <td>203.0</td>\n",
       "      <td>74.8</td>\n",
       "      <td>1.5</td>\n",
       "      <td>0.6</td>\n",
       "      <td>23.3</td>\n",
       "      <td>4.0</td>\n",
       "      <td>1</td>\n",
       "    </tr>\n",
       "    <tr>\n",
       "      <th>4</th>\n",
       "      <td>185</td>\n",
       "      <td>261.6</td>\n",
       "      <td>103.6</td>\n",
       "      <td>20.9</td>\n",
       "      <td>0.2</td>\n",
       "      <td>6.7</td>\n",
       "      <td>15.0</td>\n",
       "      <td>1</td>\n",
       "    </tr>\n",
       "    <tr>\n",
       "      <th>...</th>\n",
       "      <td>...</td>\n",
       "      <td>...</td>\n",
       "      <td>...</td>\n",
       "      <td>...</td>\n",
       "      <td>...</td>\n",
       "      <td>...</td>\n",
       "      <td>...</td>\n",
       "      <td>...</td>\n",
       "    </tr>\n",
       "    <tr>\n",
       "      <th>43087</th>\n",
       "      <td>125</td>\n",
       "      <td>281.5</td>\n",
       "      <td>111.3</td>\n",
       "      <td>13.2</td>\n",
       "      <td>11.1</td>\n",
       "      <td>25.3</td>\n",
       "      <td>6.0</td>\n",
       "      <td>1</td>\n",
       "    </tr>\n",
       "    <tr>\n",
       "      <th>43088</th>\n",
       "      <td>110</td>\n",
       "      <td>697.2</td>\n",
       "      <td>242.1</td>\n",
       "      <td>3.8</td>\n",
       "      <td>1.9</td>\n",
       "      <td>72.9</td>\n",
       "      <td>4.0</td>\n",
       "      <td>0</td>\n",
       "    </tr>\n",
       "    <tr>\n",
       "      <th>43089</th>\n",
       "      <td>65</td>\n",
       "      <td>94.5</td>\n",
       "      <td>0.0</td>\n",
       "      <td>22.7</td>\n",
       "      <td>19.1</td>\n",
       "      <td>2.0</td>\n",
       "      <td>14.0</td>\n",
       "      <td>1</td>\n",
       "    </tr>\n",
       "    <tr>\n",
       "      <th>43090</th>\n",
       "      <td>42</td>\n",
       "      <td>207.1</td>\n",
       "      <td>72.6</td>\n",
       "      <td>20.1</td>\n",
       "      <td>12.7</td>\n",
       "      <td>24.9</td>\n",
       "      <td>4.0</td>\n",
       "      <td>1</td>\n",
       "    </tr>\n",
       "    <tr>\n",
       "      <th>43091</th>\n",
       "      <td>42</td>\n",
       "      <td>296.4</td>\n",
       "      <td>47.4</td>\n",
       "      <td>24.4</td>\n",
       "      <td>3.9</td>\n",
       "      <td>15.2</td>\n",
       "      <td>3.0</td>\n",
       "      <td>1</td>\n",
       "    </tr>\n",
       "  </tbody>\n",
       "</table>\n",
       "<p>43092 rows × 8 columns</p>\n",
       "</div>"
      ],
      "text/plain": [
       "       RecipeCategory  Calories  CholesterolContent  CarbohydrateContent  \\\n",
       "0                 144     699.8               137.3                 46.1   \n",
       "1                  24     297.1               191.8                 11.7   \n",
       "2                  63     131.9                23.3                 10.3   \n",
       "3                   0     203.0                74.8                  1.5   \n",
       "4                 185     261.6               103.6                 20.9   \n",
       "...               ...       ...                 ...                  ...   \n",
       "43087             125     281.5               111.3                 13.2   \n",
       "43088             110     697.2               242.1                  3.8   \n",
       "43089              65      94.5                 0.0                 22.7   \n",
       "43090              42     207.1                72.6                 20.1   \n",
       "43091              42     296.4                47.4                 24.4   \n",
       "\n",
       "       SugarContent  ProteinContent  RecipeServings  HighScore  \n",
       "0               1.4            20.9             6.0          1  \n",
       "1               0.7            12.2             8.0          1  \n",
       "2               4.4             9.1             6.0          0  \n",
       "3               0.6            23.3             4.0          1  \n",
       "4               0.2             6.7            15.0          1  \n",
       "...             ...             ...             ...        ...  \n",
       "43087          11.1            25.3             6.0          1  \n",
       "43088           1.9            72.9             4.0          0  \n",
       "43089          19.1             2.0            14.0          1  \n",
       "43090          12.7            24.9             4.0          1  \n",
       "43091           3.9            15.2             3.0          1  \n",
       "\n",
       "[43092 rows x 8 columns]"
      ]
     },
     "execution_count": 11,
     "metadata": {},
     "output_type": "execute_result"
    }
   ],
   "source": [
    "dataFrame[\"HighScore\"] = dataFrame[\"HighScore\"].apply(lambda x: 1 if x == 1.0 else 0)\n",
    "dataFrame"
   ]
  },
  {
   "cell_type": "code",
   "execution_count": 12,
   "metadata": {
    "colab": {
     "base_uri": "https://localhost:8080/",
     "height": 164
    },
    "id": "N_HfaJAb7rg9",
    "outputId": "a46722f3-c494-480e-8b56-42b141ff6ed1"
   },
   "outputs": [
    {
     "data": {
      "text/html": [
       "<div>\n",
       "<style scoped>\n",
       "    .dataframe tbody tr th:only-of-type {\n",
       "        vertical-align: middle;\n",
       "    }\n",
       "\n",
       "    .dataframe tbody tr th {\n",
       "        vertical-align: top;\n",
       "    }\n",
       "\n",
       "    .dataframe thead th {\n",
       "        text-align: right;\n",
       "    }\n",
       "</style>\n",
       "<table border=\"1\" class=\"dataframe\">\n",
       "  <thead>\n",
       "    <tr style=\"text-align: right;\">\n",
       "      <th></th>\n",
       "      <th>RecipeCategory</th>\n",
       "      <th>Calories</th>\n",
       "      <th>CholesterolContent</th>\n",
       "      <th>CarbohydrateContent</th>\n",
       "      <th>SugarContent</th>\n",
       "      <th>ProteinContent</th>\n",
       "      <th>RecipeServings</th>\n",
       "      <th>HighScore</th>\n",
       "    </tr>\n",
       "  </thead>\n",
       "  <tbody>\n",
       "    <tr>\n",
       "      <th>0</th>\n",
       "      <td>144</td>\n",
       "      <td>699.8</td>\n",
       "      <td>137.3</td>\n",
       "      <td>46.1</td>\n",
       "      <td>1.4</td>\n",
       "      <td>20.9</td>\n",
       "      <td>6.0</td>\n",
       "      <td>1</td>\n",
       "    </tr>\n",
       "    <tr>\n",
       "      <th>1</th>\n",
       "      <td>24</td>\n",
       "      <td>297.1</td>\n",
       "      <td>191.8</td>\n",
       "      <td>11.7</td>\n",
       "      <td>0.7</td>\n",
       "      <td>12.2</td>\n",
       "      <td>8.0</td>\n",
       "      <td>1</td>\n",
       "    </tr>\n",
       "    <tr>\n",
       "      <th>2</th>\n",
       "      <td>63</td>\n",
       "      <td>131.9</td>\n",
       "      <td>23.3</td>\n",
       "      <td>10.3</td>\n",
       "      <td>4.4</td>\n",
       "      <td>9.1</td>\n",
       "      <td>6.0</td>\n",
       "      <td>0</td>\n",
       "    </tr>\n",
       "    <tr>\n",
       "      <th>3</th>\n",
       "      <td>0</td>\n",
       "      <td>203.0</td>\n",
       "      <td>74.8</td>\n",
       "      <td>1.5</td>\n",
       "      <td>0.6</td>\n",
       "      <td>23.3</td>\n",
       "      <td>4.0</td>\n",
       "      <td>1</td>\n",
       "    </tr>\n",
       "    <tr>\n",
       "      <th>4</th>\n",
       "      <td>185</td>\n",
       "      <td>261.6</td>\n",
       "      <td>103.6</td>\n",
       "      <td>20.9</td>\n",
       "      <td>0.2</td>\n",
       "      <td>6.7</td>\n",
       "      <td>15.0</td>\n",
       "      <td>1</td>\n",
       "    </tr>\n",
       "    <tr>\n",
       "      <th>...</th>\n",
       "      <td>...</td>\n",
       "      <td>...</td>\n",
       "      <td>...</td>\n",
       "      <td>...</td>\n",
       "      <td>...</td>\n",
       "      <td>...</td>\n",
       "      <td>...</td>\n",
       "      <td>...</td>\n",
       "    </tr>\n",
       "    <tr>\n",
       "      <th>43087</th>\n",
       "      <td>125</td>\n",
       "      <td>281.5</td>\n",
       "      <td>111.3</td>\n",
       "      <td>13.2</td>\n",
       "      <td>11.1</td>\n",
       "      <td>25.3</td>\n",
       "      <td>6.0</td>\n",
       "      <td>1</td>\n",
       "    </tr>\n",
       "    <tr>\n",
       "      <th>43088</th>\n",
       "      <td>110</td>\n",
       "      <td>697.2</td>\n",
       "      <td>242.1</td>\n",
       "      <td>3.8</td>\n",
       "      <td>1.9</td>\n",
       "      <td>72.9</td>\n",
       "      <td>4.0</td>\n",
       "      <td>0</td>\n",
       "    </tr>\n",
       "    <tr>\n",
       "      <th>43089</th>\n",
       "      <td>65</td>\n",
       "      <td>94.5</td>\n",
       "      <td>0.0</td>\n",
       "      <td>22.7</td>\n",
       "      <td>19.1</td>\n",
       "      <td>2.0</td>\n",
       "      <td>14.0</td>\n",
       "      <td>1</td>\n",
       "    </tr>\n",
       "    <tr>\n",
       "      <th>43090</th>\n",
       "      <td>42</td>\n",
       "      <td>207.1</td>\n",
       "      <td>72.6</td>\n",
       "      <td>20.1</td>\n",
       "      <td>12.7</td>\n",
       "      <td>24.9</td>\n",
       "      <td>4.0</td>\n",
       "      <td>1</td>\n",
       "    </tr>\n",
       "    <tr>\n",
       "      <th>43091</th>\n",
       "      <td>42</td>\n",
       "      <td>296.4</td>\n",
       "      <td>47.4</td>\n",
       "      <td>24.4</td>\n",
       "      <td>3.9</td>\n",
       "      <td>15.2</td>\n",
       "      <td>3.0</td>\n",
       "      <td>1</td>\n",
       "    </tr>\n",
       "  </tbody>\n",
       "</table>\n",
       "<p>43092 rows × 8 columns</p>\n",
       "</div>"
      ],
      "text/plain": [
       "       RecipeCategory  Calories  CholesterolContent  CarbohydrateContent  \\\n",
       "0                 144     699.8               137.3                 46.1   \n",
       "1                  24     297.1               191.8                 11.7   \n",
       "2                  63     131.9                23.3                 10.3   \n",
       "3                   0     203.0                74.8                  1.5   \n",
       "4                 185     261.6               103.6                 20.9   \n",
       "...               ...       ...                 ...                  ...   \n",
       "43087             125     281.5               111.3                 13.2   \n",
       "43088             110     697.2               242.1                  3.8   \n",
       "43089              65      94.5                 0.0                 22.7   \n",
       "43090              42     207.1                72.6                 20.1   \n",
       "43091              42     296.4                47.4                 24.4   \n",
       "\n",
       "       SugarContent  ProteinContent  RecipeServings  HighScore  \n",
       "0               1.4            20.9             6.0          1  \n",
       "1               0.7            12.2             8.0          1  \n",
       "2               4.4             9.1             6.0          0  \n",
       "3               0.6            23.3             4.0          1  \n",
       "4               0.2             6.7            15.0          1  \n",
       "...             ...             ...             ...        ...  \n",
       "43087          11.1            25.3             6.0          1  \n",
       "43088           1.9            72.9             4.0          0  \n",
       "43089          19.1             2.0            14.0          1  \n",
       "43090          12.7            24.9             4.0          1  \n",
       "43091           3.9            15.2             3.0          1  \n",
       "\n",
       "[43092 rows x 8 columns]"
      ]
     },
     "execution_count": 12,
     "metadata": {},
     "output_type": "execute_result"
    }
   ],
   "source": [
    "dataFrame"
   ]
  },
  {
   "cell_type": "code",
   "execution_count": 13,
   "metadata": {
    "id": "1kyuzln6DJFP"
   },
   "outputs": [
    {
     "data": {
      "text/plain": [
       "<function matplotlib.pyplot.show(close=None, block=None)>"
      ]
     },
     "execution_count": 13,
     "metadata": {},
     "output_type": "execute_result"
    },
    {
     "data": {
      "image/png": "[encoded data removed]",
      "text/plain": [
       "<Figure size 2880x2880 with 2 Axes>"
      ]
     },
     "metadata": {
      "needs_background": "light"
     },
     "output_type": "display_data"
    }
   ],
   "source": [
    "# Correlation\n",
    "\n",
    "plt.figure(figsize=(40, 40))\n",
    "sns.heatmap(dataFrame.corr(), annot = True)\n",
    "plt.show"
   ]
  },
  {
   "cell_type": "code",
   "execution_count": 14,
   "metadata": {},
   "outputs": [
    {
     "data": {
      "text/plain": [
       "ProteinContent        -0.021633\n",
       "CarbohydrateContent   -0.008793\n",
       "RecipeServings        -0.008314\n",
       "Calories              -0.002093\n",
       "CholesterolContent    -0.001338\n",
       "RecipeCategory         0.000680\n",
       "SugarContent           0.016148\n",
       "HighScore              1.000000\n",
       "Name: HighScore, dtype: float64"
      ]
     },
     "execution_count": 14,
     "metadata": {},
     "output_type": "execute_result"
    }
   ],
   "source": [
    "dataFrame.corr()['HighScore'].sort_values()"
   ]
  },
  {
   "cell_type": "code",
   "execution_count": 15,
   "metadata": {
    "id": "IgtR3kHpqdWf"
   },
   "outputs": [
    {
     "data": {
      "text/plain": [
       "array([[<AxesSubplot:title={'center':'RecipeCategory'}>,\n",
       "        <AxesSubplot:title={'center':'Calories'}>,\n",
       "        <AxesSubplot:title={'center':'CholesterolContent'}>],\n",
       "       [<AxesSubplot:title={'center':'CarbohydrateContent'}>,\n",
       "        <AxesSubplot:title={'center':'SugarContent'}>,\n",
       "        <AxesSubplot:title={'center':'ProteinContent'}>],\n",
       "       [<AxesSubplot:title={'center':'RecipeServings'}>,\n",
       "        <AxesSubplot:title={'center':'HighScore'}>, <AxesSubplot:>]],\n",
       "      dtype=object)"
      ]
     },
     "execution_count": 15,
     "metadata": {},
     "output_type": "execute_result"
    },
    {
     "data": {
      "text/plain": [
       "<Figure size 2160x2160 with 0 Axes>"
      ]
     },
     "metadata": {},
     "output_type": "display_data"
    },
    {
     "data": {
      "image/png": "[encoded data removed]",
      "text/plain": [
       "<Figure size 1440x1440 with 9 Axes>"
      ]
     },
     "metadata": {
      "needs_background": "light"
     },
     "output_type": "display_data"
    }
   ],
   "source": [
    "# Histogram\n",
    "plt.figure(figsize = (30, 30))\n",
    "dataFrame.hist(bins = 50, figsize = (20, 20), density = 1)"
   ]
  },
  {
   "cell_type": "code",
   "execution_count": 16,
   "metadata": {
    "id": "9aU47PJxsjoa"
   },
   "outputs": [
    {
     "data": {
      "text/plain": [
       "<Figure size 2160x1440 with 0 Axes>"
      ]
     },
     "metadata": {},
     "output_type": "display_data"
    },
    {
     "data": {
      "image/png": "[encoded data removed]",
      "text/plain": [
       "<Figure size 1440x1440 with 24 Axes>"
      ]
     },
     "metadata": {
      "needs_background": "light"
     },
     "output_type": "display_data"
    }
   ],
   "source": [
    "# Density plot\n",
    "plt.figure(figsize = (30, 20))\n",
    "dataFrame.plot(kind= 'density', subplots=True, layout=(6,4), sharex = False, fontsize=1, figsize = (20, 20))\n",
    "plt.show()"
   ]
  },
  {
   "cell_type": "code",
   "execution_count": 17,
   "metadata": {
    "id": "C4ubMhCFw1y6"
   },
   "outputs": [
    {
     "data": {
      "text/plain": [
       "<Figure size 1800x1800 with 0 Axes>"
      ]
     },
     "metadata": {},
     "output_type": "display_data"
    },
    {
     "data": {
      "image/png": "[encoded data removed]",
      "text/plain": [
       "<Figure size 1800x1800 with 24 Axes>"
      ]
     },
     "metadata": {
      "needs_background": "light"
     },
     "output_type": "display_data"
    }
   ],
   "source": [
    "# Box plot\n",
    "plt.figure(figsize = (25, 25))\n",
    "dataFrame.plot(kind='box', subplots=True, layout=(4, 6), sharex=False, sharey=False, fontsize=8, figsize = (25, 25))\n",
    "plt.show()"
   ]
  },
  {
   "cell_type": "code",
   "execution_count": 17,
   "metadata": {
    "colab": {
     "base_uri": "https://localhost:8080/"
    },
    "id": "CNW_4oi9znND",
    "outputId": "acd11bc5-530a-4a97-ef9d-7478ca8f532e"
   },
   "outputs": [
    {
     "data": {
      "text/plain": [
       "1    27826\n",
       "0    15266\n",
       "Name: HighScore, dtype: int64"
      ]
     },
     "execution_count": 17,
     "metadata": {},
     "output_type": "execute_result"
    }
   ],
   "source": [
    "X = dataFrame.drop([\"HighScore\"], axis = 1)\n",
    "Y = dataFrame[\"HighScore\"]\n",
    "Y.value_counts()"
   ]
  },
  {
   "cell_type": "code",
   "execution_count": 18,
   "metadata": {
    "colab": {
     "base_uri": "https://localhost:8080/",
     "height": 473
    },
    "id": "_-1XmRna1WGZ",
    "outputId": "4fe21142-a815-487d-ee83-358310cbf3cc"
   },
   "outputs": [
    {
     "data": {
      "text/html": [
       "<div>\n",
       "<style scoped>\n",
       "    .dataframe tbody tr th:only-of-type {\n",
       "        vertical-align: middle;\n",
       "    }\n",
       "\n",
       "    .dataframe tbody tr th {\n",
       "        vertical-align: top;\n",
       "    }\n",
       "\n",
       "    .dataframe thead th {\n",
       "        text-align: right;\n",
       "    }\n",
       "</style>\n",
       "<table border=\"1\" class=\"dataframe\">\n",
       "  <thead>\n",
       "    <tr style=\"text-align: right;\">\n",
       "      <th></th>\n",
       "      <th>RecipeCategory</th>\n",
       "      <th>Calories</th>\n",
       "      <th>CholesterolContent</th>\n",
       "      <th>CarbohydrateContent</th>\n",
       "      <th>SugarContent</th>\n",
       "      <th>ProteinContent</th>\n",
       "      <th>RecipeServings</th>\n",
       "    </tr>\n",
       "  </thead>\n",
       "  <tbody>\n",
       "    <tr>\n",
       "      <th>0</th>\n",
       "      <td>144</td>\n",
       "      <td>699.8</td>\n",
       "      <td>137.3</td>\n",
       "      <td>46.1</td>\n",
       "      <td>1.4</td>\n",
       "      <td>20.9</td>\n",
       "      <td>6.0</td>\n",
       "    </tr>\n",
       "    <tr>\n",
       "      <th>1</th>\n",
       "      <td>24</td>\n",
       "      <td>297.1</td>\n",
       "      <td>191.8</td>\n",
       "      <td>11.7</td>\n",
       "      <td>0.7</td>\n",
       "      <td>12.2</td>\n",
       "      <td>8.0</td>\n",
       "    </tr>\n",
       "    <tr>\n",
       "      <th>2</th>\n",
       "      <td>63</td>\n",
       "      <td>131.9</td>\n",
       "      <td>23.3</td>\n",
       "      <td>10.3</td>\n",
       "      <td>4.4</td>\n",
       "      <td>9.1</td>\n",
       "      <td>6.0</td>\n",
       "    </tr>\n",
       "    <tr>\n",
       "      <th>3</th>\n",
       "      <td>0</td>\n",
       "      <td>203.0</td>\n",
       "      <td>74.8</td>\n",
       "      <td>1.5</td>\n",
       "      <td>0.6</td>\n",
       "      <td>23.3</td>\n",
       "      <td>4.0</td>\n",
       "    </tr>\n",
       "    <tr>\n",
       "      <th>4</th>\n",
       "      <td>185</td>\n",
       "      <td>261.6</td>\n",
       "      <td>103.6</td>\n",
       "      <td>20.9</td>\n",
       "      <td>0.2</td>\n",
       "      <td>6.7</td>\n",
       "      <td>15.0</td>\n",
       "    </tr>\n",
       "    <tr>\n",
       "      <th>...</th>\n",
       "      <td>...</td>\n",
       "      <td>...</td>\n",
       "      <td>...</td>\n",
       "      <td>...</td>\n",
       "      <td>...</td>\n",
       "      <td>...</td>\n",
       "      <td>...</td>\n",
       "    </tr>\n",
       "    <tr>\n",
       "      <th>43087</th>\n",
       "      <td>125</td>\n",
       "      <td>281.5</td>\n",
       "      <td>111.3</td>\n",
       "      <td>13.2</td>\n",
       "      <td>11.1</td>\n",
       "      <td>25.3</td>\n",
       "      <td>6.0</td>\n",
       "    </tr>\n",
       "    <tr>\n",
       "      <th>43088</th>\n",
       "      <td>110</td>\n",
       "      <td>697.2</td>\n",
       "      <td>242.1</td>\n",
       "      <td>3.8</td>\n",
       "      <td>1.9</td>\n",
       "      <td>72.9</td>\n",
       "      <td>4.0</td>\n",
       "    </tr>\n",
       "    <tr>\n",
       "      <th>43089</th>\n",
       "      <td>65</td>\n",
       "      <td>94.5</td>\n",
       "      <td>0.0</td>\n",
       "      <td>22.7</td>\n",
       "      <td>19.1</td>\n",
       "      <td>2.0</td>\n",
       "      <td>14.0</td>\n",
       "    </tr>\n",
       "    <tr>\n",
       "      <th>43090</th>\n",
       "      <td>42</td>\n",
       "      <td>207.1</td>\n",
       "      <td>72.6</td>\n",
       "      <td>20.1</td>\n",
       "      <td>12.7</td>\n",
       "      <td>24.9</td>\n",
       "      <td>4.0</td>\n",
       "    </tr>\n",
       "    <tr>\n",
       "      <th>43091</th>\n",
       "      <td>42</td>\n",
       "      <td>296.4</td>\n",
       "      <td>47.4</td>\n",
       "      <td>24.4</td>\n",
       "      <td>3.9</td>\n",
       "      <td>15.2</td>\n",
       "      <td>3.0</td>\n",
       "    </tr>\n",
       "  </tbody>\n",
       "</table>\n",
       "<p>43092 rows × 7 columns</p>\n",
       "</div>"
      ],
      "text/plain": [
       "       RecipeCategory  Calories  CholesterolContent  CarbohydrateContent  \\\n",
       "0                 144     699.8               137.3                 46.1   \n",
       "1                  24     297.1               191.8                 11.7   \n",
       "2                  63     131.9                23.3                 10.3   \n",
       "3                   0     203.0                74.8                  1.5   \n",
       "4                 185     261.6               103.6                 20.9   \n",
       "...               ...       ...                 ...                  ...   \n",
       "43087             125     281.5               111.3                 13.2   \n",
       "43088             110     697.2               242.1                  3.8   \n",
       "43089              65      94.5                 0.0                 22.7   \n",
       "43090              42     207.1                72.6                 20.1   \n",
       "43091              42     296.4                47.4                 24.4   \n",
       "\n",
       "       SugarContent  ProteinContent  RecipeServings  \n",
       "0               1.4            20.9             6.0  \n",
       "1               0.7            12.2             8.0  \n",
       "2               4.4             9.1             6.0  \n",
       "3               0.6            23.3             4.0  \n",
       "4               0.2             6.7            15.0  \n",
       "...             ...             ...             ...  \n",
       "43087          11.1            25.3             6.0  \n",
       "43088           1.9            72.9             4.0  \n",
       "43089          19.1             2.0            14.0  \n",
       "43090          12.7            24.9             4.0  \n",
       "43091           3.9            15.2             3.0  \n",
       "\n",
       "[43092 rows x 7 columns]"
      ]
     },
     "execution_count": 18,
     "metadata": {},
     "output_type": "execute_result"
    }
   ],
   "source": [
    "X"
   ]
  },
  {
   "cell_type": "code",
   "execution_count": 19,
   "metadata": {
    "colab": {
     "base_uri": "https://localhost:8080/"
    },
    "id": "Aj5L8_ce1bIW",
    "outputId": "8f661a59-e85d-4196-c5f4-96eee4fa27cd"
   },
   "outputs": [
    {
     "data": {
      "text/plain": [
       "0        1\n",
       "1        1\n",
       "2        0\n",
       "3        1\n",
       "4        1\n",
       "        ..\n",
       "43087    1\n",
       "43088    0\n",
       "43089    1\n",
       "43090    1\n",
       "43091    1\n",
       "Name: HighScore, Length: 43092, dtype: int64"
      ]
     },
     "execution_count": 19,
     "metadata": {},
     "output_type": "execute_result"
    }
   ],
   "source": [
    "Y"
   ]
  },
  {
   "cell_type": "code",
   "execution_count": 20,
   "metadata": {},
   "outputs": [
    {
     "data": {
      "text/plain": [
       "(43092, 8)"
      ]
     },
     "execution_count": 20,
     "metadata": {},
     "output_type": "execute_result"
    }
   ],
   "source": [
    "dataFrame.shape"
   ]
  },
  {
   "cell_type": "code",
   "execution_count": 21,
   "metadata": {
    "colab": {
     "base_uri": "https://localhost:8080/"
    },
    "id": "ne855NkN1gnn",
    "outputId": "20865a65-f284-469f-adf9-d55ae028e450"
   },
   "outputs": [
    {
     "data": {
      "text/plain": [
       "((34473, 7), (8619, 7))"
      ]
     },
     "execution_count": 21,
     "metadata": {},
     "output_type": "execute_result"
    }
   ],
   "source": [
    "# Divide dataFrame into 2 datasets: train and validation\n",
    "X_train, X_test, Y_train, Y_test = train_test_split(X, Y, test_size=0.2, random_state=42)\n",
    "X_train.shape, X_test.shape"
   ]
  },
  {
   "cell_type": "code",
   "execution_count": 22,
   "metadata": {},
   "outputs": [
    {
     "name": "stdout",
     "output_type": "stream",
     "text": [
      "Accuracy is:  0.6447383687202691\n",
      "              precision    recall  f1-score   support\n",
      "\n",
      "           0       0.50      0.00      0.00      3062\n",
      "           1       0.64      1.00      0.78      5557\n",
      "\n",
      "    accuracy                           0.64      8619\n",
      "   macro avg       0.57      0.50      0.39      8619\n",
      "weighted avg       0.59      0.64      0.51      8619\n",
      "\n"
     ]
    },
    {
     "data": {
      "image/png": "[encoded data removed]",
      "text/plain": [
       "<Figure size 432x288 with 2 Axes>"
      ]
     },
     "metadata": {
      "needs_background": "light"
     },
     "output_type": "display_data"
    }
   ],
   "source": [
    "lr = LogisticRegression(solver='liblinear')\n",
    "lr.fit(X_train, Y_train)\n",
    "lr.score(X_test, Y_test)\n",
    "\n",
    "y_pred = lr.predict(X_test)\n",
    "ac = accuracy_score(Y_test,y_pred)\n",
    "print('Accuracy is: ',ac)\n",
    "cm = confusion_matrix(Y_test, y_pred)\n",
    "sns.heatmap(cm,annot=True,fmt=\"d\");\n",
    "print(classification_report(Y_test, y_pred))"
   ]
  },
  {
   "cell_type": "code",
   "execution_count": 23,
   "metadata": {},
   "outputs": [
    {
     "name": "stdout",
     "output_type": "stream",
     "text": [
      "Accuracy is:  0.6448543914607263\n",
      "              precision    recall  f1-score   support\n",
      "\n",
      "           0       1.00      0.00      0.00      3062\n",
      "           1       0.64      1.00      0.78      5557\n",
      "\n",
      "    accuracy                           0.64      8619\n",
      "   macro avg       0.82      0.50      0.39      8619\n",
      "weighted avg       0.77      0.64      0.51      8619\n",
      "\n"
     ]
    },
    {
     "data": {
      "image/png": "[encoded data removed]",
      "text/plain": [
       "<Figure size 432x288 with 2 Axes>"
      ]
     },
     "metadata": {
      "needs_background": "light"
     },
     "output_type": "display_data"
    }
   ],
   "source": [
    "\n",
    "svc = SVC()\n",
    "svc.fit(X_train, Y_train)\n",
    "svc.score(X_test, Y_test)\n",
    "\n",
    "y_pred = svc.predict(X_test)\n",
    "ac = accuracy_score(Y_test, y_pred)\n",
    "print('Accuracy is: ',ac)\n",
    "cm = confusion_matrix(Y_test, y_pred)\n",
    "sns.heatmap(cm,annot=True,fmt=\"d\");\n",
    "print(classification_report(Y_test, y_pred))"
   ]
  },
  {
   "cell_type": "code",
   "execution_count": 24,
   "metadata": {},
   "outputs": [
    {
     "name": "stdout",
     "output_type": "stream",
     "text": [
      "Accuracy is:  0.6435781413156979\n",
      "              precision    recall  f1-score   support\n",
      "\n",
      "           0       0.27      0.00      0.00      3062\n",
      "           1       0.64      1.00      0.78      5557\n",
      "\n",
      "    accuracy                           0.64      8619\n",
      "   macro avg       0.46      0.50      0.39      8619\n",
      "weighted avg       0.51      0.64      0.51      8619\n",
      "\n"
     ]
    },
    {
     "data": {
      "image/png": "[encoded data removed]",
      "text/plain": [
       "<Figure size 432x288 with 2 Axes>"
      ]
     },
     "metadata": {
      "needs_background": "light"
     },
     "output_type": "display_data"
    }
   ],
   "source": [
    "#Create a Gaussian Classifier\n",
    "nb = GaussianNB()\n",
    "\n",
    "# Train the model using the training sets \n",
    "nb.fit(X_train, Y_train)\n",
    "\n",
    "#Predict Score \n",
    "y_pred = nb.predict(X_test)\n",
    "ac = accuracy_score(Y_test, y_pred)\n",
    "print('Accuracy is: ',ac)\n",
    "cm = confusion_matrix(Y_test, y_pred)\n",
    "sns.heatmap(cm,annot=True,fmt=\"d\");\n",
    "print(classification_report(Y_test, y_pred))"
   ]
  },
  {
   "cell_type": "code",
   "execution_count": 25,
   "metadata": {},
   "outputs": [
    {
     "name": "stdout",
     "output_type": "stream",
     "text": [
      "Accuracy is:  0.6219979115906717\n",
      "              precision    recall  f1-score   support\n",
      "\n",
      "           0       0.40      0.13      0.20      3062\n",
      "           1       0.65      0.89      0.75      5557\n",
      "\n",
      "    accuracy                           0.62      8619\n",
      "   macro avg       0.53      0.51      0.47      8619\n",
      "weighted avg       0.56      0.62      0.55      8619\n",
      "\n"
     ]
    },
    {
     "data": {
      "image/png": "[encoded data removed]",
      "text/plain": [
       "<Figure size 432x288 with 2 Axes>"
      ]
     },
     "metadata": {
      "needs_background": "light"
     },
     "output_type": "display_data"
    }
   ],
   "source": [
    "rf = RandomForestClassifier(random_state=42)\n",
    "# Train the model using the training sets \n",
    "rf.fit(X_train, Y_train)\n",
    "\n",
    "#Predict Score \n",
    "y_pred = rf.predict(X_test)\n",
    "ac = accuracy_score(Y_test, y_pred)\n",
    "print('Accuracy is: ',ac)\n",
    "cm = confusion_matrix(Y_test, y_pred)\n",
    "sns.heatmap(cm,annot=True,fmt=\"d\");\n",
    "print(classification_report(Y_test, y_pred))"
   ]
  },
  {
   "cell_type": "code",
   "execution_count": 26,
   "metadata": {},
   "outputs": [
    {
     "name": "stdout",
     "output_type": "stream",
     "text": [
      "RecipeCategory         126.000\n",
      "Calories               281.925\n",
      "CholesterolContent      91.400\n",
      "CarbohydrateContent     31.800\n",
      "SugarContent            11.900\n",
      "ProteinContent          20.900\n",
      "RecipeServings           4.000\n",
      "HighScore                1.000\n",
      "dtype: float64\n"
     ]
    }
   ],
   "source": [
    "Q1 = dataFrame.quantile(0.25)\n",
    "Q3 = dataFrame.quantile(0.75)\n",
    "IQR = Q3 - Q1\n",
    "print(IQR)"
   ]
  },
  {
   "cell_type": "code",
   "execution_count": 27,
   "metadata": {},
   "outputs": [
    {
     "data": {
      "text/plain": [
       "(31616, 8)"
      ]
     },
     "execution_count": 27,
     "metadata": {},
     "output_type": "execute_result"
    }
   ],
   "source": [
    "recipe = dataFrame[~((dataFrame < (Q1 - 1.5 * IQR)) |(dataFrame > (Q3 + 1.5 * IQR))).any(axis=1)]\n",
    "recipe.shape"
   ]
  },
  {
   "cell_type": "code",
   "execution_count": 28,
   "metadata": {},
   "outputs": [
    {
     "data": {
      "text/plain": [
       "CarbohydrateContent   -0.040690\n",
       "ProteinContent        -0.035312\n",
       "Calories              -0.012116\n",
       "CholesterolContent    -0.008577\n",
       "RecipeServings        -0.003672\n",
       "RecipeCategory         0.000876\n",
       "SugarContent           0.016537\n",
       "HighScore              1.000000\n",
       "Name: HighScore, dtype: float64"
      ]
     },
     "execution_count": 28,
     "metadata": {},
     "output_type": "execute_result"
    }
   ],
   "source": [
    "recipe.corr()['HighScore'].sort_values()"
   ]
  },
  {
   "cell_type": "code",
   "execution_count": 29,
   "metadata": {},
   "outputs": [
    {
     "data": {
      "text/html": [
       "<div>\n",
       "<style scoped>\n",
       "    .dataframe tbody tr th:only-of-type {\n",
       "        vertical-align: middle;\n",
       "    }\n",
       "\n",
       "    .dataframe tbody tr th {\n",
       "        vertical-align: top;\n",
       "    }\n",
       "\n",
       "    .dataframe thead th {\n",
       "        text-align: right;\n",
       "    }\n",
       "</style>\n",
       "<table border=\"1\" class=\"dataframe\">\n",
       "  <thead>\n",
       "    <tr style=\"text-align: right;\">\n",
       "      <th></th>\n",
       "      <th>RecipeCategory</th>\n",
       "      <th>Calories</th>\n",
       "      <th>CholesterolContent</th>\n",
       "      <th>CarbohydrateContent</th>\n",
       "      <th>SugarContent</th>\n",
       "      <th>ProteinContent</th>\n",
       "      <th>RecipeServings</th>\n",
       "      <th>HighScore</th>\n",
       "    </tr>\n",
       "  </thead>\n",
       "  <tbody>\n",
       "    <tr>\n",
       "      <th>0</th>\n",
       "      <td>144</td>\n",
       "      <td>699.8</td>\n",
       "      <td>137.3</td>\n",
       "      <td>46.1</td>\n",
       "      <td>1.4</td>\n",
       "      <td>20.9</td>\n",
       "      <td>6.0</td>\n",
       "      <td>1</td>\n",
       "    </tr>\n",
       "    <tr>\n",
       "      <th>1</th>\n",
       "      <td>24</td>\n",
       "      <td>297.1</td>\n",
       "      <td>191.8</td>\n",
       "      <td>11.7</td>\n",
       "      <td>0.7</td>\n",
       "      <td>12.2</td>\n",
       "      <td>8.0</td>\n",
       "      <td>1</td>\n",
       "    </tr>\n",
       "    <tr>\n",
       "      <th>2</th>\n",
       "      <td>63</td>\n",
       "      <td>131.9</td>\n",
       "      <td>23.3</td>\n",
       "      <td>10.3</td>\n",
       "      <td>4.4</td>\n",
       "      <td>9.1</td>\n",
       "      <td>6.0</td>\n",
       "      <td>0</td>\n",
       "    </tr>\n",
       "    <tr>\n",
       "      <th>3</th>\n",
       "      <td>0</td>\n",
       "      <td>203.0</td>\n",
       "      <td>74.8</td>\n",
       "      <td>1.5</td>\n",
       "      <td>0.6</td>\n",
       "      <td>23.3</td>\n",
       "      <td>4.0</td>\n",
       "      <td>1</td>\n",
       "    </tr>\n",
       "    <tr>\n",
       "      <th>5</th>\n",
       "      <td>191</td>\n",
       "      <td>313.4</td>\n",
       "      <td>42.7</td>\n",
       "      <td>42.1</td>\n",
       "      <td>17.0</td>\n",
       "      <td>11.7</td>\n",
       "      <td>2.0</td>\n",
       "      <td>1</td>\n",
       "    </tr>\n",
       "  </tbody>\n",
       "</table>\n",
       "</div>"
      ],
      "text/plain": [
       "   RecipeCategory  Calories  CholesterolContent  CarbohydrateContent  \\\n",
       "0             144     699.8               137.3                 46.1   \n",
       "1              24     297.1               191.8                 11.7   \n",
       "2              63     131.9                23.3                 10.3   \n",
       "3               0     203.0                74.8                  1.5   \n",
       "5             191     313.4                42.7                 42.1   \n",
       "\n",
       "   SugarContent  ProteinContent  RecipeServings  HighScore  \n",
       "0           1.4            20.9             6.0          1  \n",
       "1           0.7            12.2             8.0          1  \n",
       "2           4.4             9.1             6.0          0  \n",
       "3           0.6            23.3             4.0          1  \n",
       "5          17.0            11.7             2.0          1  "
      ]
     },
     "execution_count": 29,
     "metadata": {},
     "output_type": "execute_result"
    }
   ],
   "source": [
    "recipe.head()"
   ]
  },
  {
   "cell_type": "code",
   "execution_count": 30,
   "metadata": {},
   "outputs": [
    {
     "data": {
      "text/plain": [
       "1    20165\n",
       "0    11451\n",
       "Name: HighScore, dtype: int64"
      ]
     },
     "execution_count": 30,
     "metadata": {},
     "output_type": "execute_result"
    }
   ],
   "source": [
    "X = recipe.drop([\"HighScore\"], axis = 1)\n",
    "Y = recipe[\"HighScore\"]\n",
    "Y.value_counts()"
   ]
  },
  {
   "cell_type": "code",
   "execution_count": 31,
   "metadata": {},
   "outputs": [
    {
     "data": {
      "text/html": [
       "<div>\n",
       "<style scoped>\n",
       "    .dataframe tbody tr th:only-of-type {\n",
       "        vertical-align: middle;\n",
       "    }\n",
       "\n",
       "    .dataframe tbody tr th {\n",
       "        vertical-align: top;\n",
       "    }\n",
       "\n",
       "    .dataframe thead th {\n",
       "        text-align: right;\n",
       "    }\n",
       "</style>\n",
       "<table border=\"1\" class=\"dataframe\">\n",
       "  <thead>\n",
       "    <tr style=\"text-align: right;\">\n",
       "      <th></th>\n",
       "      <th>RecipeCategory</th>\n",
       "      <th>Calories</th>\n",
       "      <th>CholesterolContent</th>\n",
       "      <th>CarbohydrateContent</th>\n",
       "      <th>SugarContent</th>\n",
       "      <th>ProteinContent</th>\n",
       "      <th>RecipeServings</th>\n",
       "    </tr>\n",
       "  </thead>\n",
       "  <tbody>\n",
       "    <tr>\n",
       "      <th>0</th>\n",
       "      <td>144</td>\n",
       "      <td>699.8</td>\n",
       "      <td>137.3</td>\n",
       "      <td>46.1</td>\n",
       "      <td>1.4</td>\n",
       "      <td>20.9</td>\n",
       "      <td>6.0</td>\n",
       "    </tr>\n",
       "    <tr>\n",
       "      <th>1</th>\n",
       "      <td>24</td>\n",
       "      <td>297.1</td>\n",
       "      <td>191.8</td>\n",
       "      <td>11.7</td>\n",
       "      <td>0.7</td>\n",
       "      <td>12.2</td>\n",
       "      <td>8.0</td>\n",
       "    </tr>\n",
       "    <tr>\n",
       "      <th>2</th>\n",
       "      <td>63</td>\n",
       "      <td>131.9</td>\n",
       "      <td>23.3</td>\n",
       "      <td>10.3</td>\n",
       "      <td>4.4</td>\n",
       "      <td>9.1</td>\n",
       "      <td>6.0</td>\n",
       "    </tr>\n",
       "    <tr>\n",
       "      <th>3</th>\n",
       "      <td>0</td>\n",
       "      <td>203.0</td>\n",
       "      <td>74.8</td>\n",
       "      <td>1.5</td>\n",
       "      <td>0.6</td>\n",
       "      <td>23.3</td>\n",
       "      <td>4.0</td>\n",
       "    </tr>\n",
       "    <tr>\n",
       "      <th>5</th>\n",
       "      <td>191</td>\n",
       "      <td>313.4</td>\n",
       "      <td>42.7</td>\n",
       "      <td>42.1</td>\n",
       "      <td>17.0</td>\n",
       "      <td>11.7</td>\n",
       "      <td>2.0</td>\n",
       "    </tr>\n",
       "    <tr>\n",
       "      <th>...</th>\n",
       "      <td>...</td>\n",
       "      <td>...</td>\n",
       "      <td>...</td>\n",
       "      <td>...</td>\n",
       "      <td>...</td>\n",
       "      <td>...</td>\n",
       "      <td>...</td>\n",
       "    </tr>\n",
       "    <tr>\n",
       "      <th>43086</th>\n",
       "      <td>19</td>\n",
       "      <td>280.5</td>\n",
       "      <td>0.0</td>\n",
       "      <td>0.1</td>\n",
       "      <td>0.1</td>\n",
       "      <td>0.0</td>\n",
       "      <td>2.0</td>\n",
       "    </tr>\n",
       "    <tr>\n",
       "      <th>43087</th>\n",
       "      <td>125</td>\n",
       "      <td>281.5</td>\n",
       "      <td>111.3</td>\n",
       "      <td>13.2</td>\n",
       "      <td>11.1</td>\n",
       "      <td>25.3</td>\n",
       "      <td>6.0</td>\n",
       "    </tr>\n",
       "    <tr>\n",
       "      <th>43089</th>\n",
       "      <td>65</td>\n",
       "      <td>94.5</td>\n",
       "      <td>0.0</td>\n",
       "      <td>22.7</td>\n",
       "      <td>19.1</td>\n",
       "      <td>2.0</td>\n",
       "      <td>14.0</td>\n",
       "    </tr>\n",
       "    <tr>\n",
       "      <th>43090</th>\n",
       "      <td>42</td>\n",
       "      <td>207.1</td>\n",
       "      <td>72.6</td>\n",
       "      <td>20.1</td>\n",
       "      <td>12.7</td>\n",
       "      <td>24.9</td>\n",
       "      <td>4.0</td>\n",
       "    </tr>\n",
       "    <tr>\n",
       "      <th>43091</th>\n",
       "      <td>42</td>\n",
       "      <td>296.4</td>\n",
       "      <td>47.4</td>\n",
       "      <td>24.4</td>\n",
       "      <td>3.9</td>\n",
       "      <td>15.2</td>\n",
       "      <td>3.0</td>\n",
       "    </tr>\n",
       "  </tbody>\n",
       "</table>\n",
       "<p>31616 rows × 7 columns</p>\n",
       "</div>"
      ],
      "text/plain": [
       "       RecipeCategory  Calories  CholesterolContent  CarbohydrateContent  \\\n",
       "0                 144     699.8               137.3                 46.1   \n",
       "1                  24     297.1               191.8                 11.7   \n",
       "2                  63     131.9                23.3                 10.3   \n",
       "3                   0     203.0                74.8                  1.5   \n",
       "5                 191     313.4                42.7                 42.1   \n",
       "...               ...       ...                 ...                  ...   \n",
       "43086              19     280.5                 0.0                  0.1   \n",
       "43087             125     281.5               111.3                 13.2   \n",
       "43089              65      94.5                 0.0                 22.7   \n",
       "43090              42     207.1                72.6                 20.1   \n",
       "43091              42     296.4                47.4                 24.4   \n",
       "\n",
       "       SugarContent  ProteinContent  RecipeServings  \n",
       "0               1.4            20.9             6.0  \n",
       "1               0.7            12.2             8.0  \n",
       "2               4.4             9.1             6.0  \n",
       "3               0.6            23.3             4.0  \n",
       "5              17.0            11.7             2.0  \n",
       "...             ...             ...             ...  \n",
       "43086           0.1             0.0             2.0  \n",
       "43087          11.1            25.3             6.0  \n",
       "43089          19.1             2.0            14.0  \n",
       "43090          12.7            24.9             4.0  \n",
       "43091           3.9            15.2             3.0  \n",
       "\n",
       "[31616 rows x 7 columns]"
      ]
     },
     "execution_count": 31,
     "metadata": {},
     "output_type": "execute_result"
    }
   ],
   "source": [
    "X"
   ]
  },
  {
   "cell_type": "code",
   "execution_count": 32,
   "metadata": {
    "id": "k3O5hrjh1rBv"
   },
   "outputs": [],
   "source": [
    "# declare variable\n",
    "seed = 7\n",
    "scoring = 'accuracy'"
   ]
  },
  {
   "cell_type": "code",
   "execution_count": 33,
   "metadata": {
    "id": "gRnVLlSc3jkk"
   },
   "outputs": [],
   "source": [
    "models = []\n",
    "models.append(('DTC', DecisionTreeClassifier()))\n",
    "models.append(('LGR', LogisticRegression(solver='liblinear', multi_class='ovr')))\n",
    "models.append(('NB', GaussianNB()))\n",
    "models.append(('RDF', RandomForestClassifier()))\n"
   ]
  },
  {
   "cell_type": "code",
   "execution_count": 34,
   "metadata": {
    "colab": {
     "base_uri": "https://localhost:8080/"
    },
    "id": "dSzIxxfy3ll-",
    "outputId": "f5b791aa-e03e-4397-f1e3-6cb141d6fa90"
   },
   "outputs": [
    {
     "name": "stdout",
     "output_type": "stream",
     "text": [
      "DTC: 0.546776 (0.003879)\n",
      "LGR: 0.645752 (0.000327)\n",
      "NB: 0.607260 (0.075498)\n",
      "RDF: 0.619238 (0.005044)\n"
     ]
    }
   ],
   "source": [
    "# evaluate each model in turn\n",
    "results = []\n",
    "names = []\n",
    "for name, model in models:\n",
    "  cv_results = cross_val_score(model, X_train, Y_train, scoring=scoring)\n",
    "  results.append(cv_results)\n",
    "  names.append(name)\n",
    "  msg = \"%s: %f (%f)\" % (name, cv_results.mean(), cv_results.std())\n",
    "  print(msg)"
   ]
  },
  {
   "cell_type": "code",
   "execution_count": 35,
   "metadata": {
    "colab": {
     "base_uri": "https://localhost:8080/",
     "height": 663
    },
    "id": "Dgj7yGv63n-U",
    "outputId": "f9bf6a35-7714-4b58-dd9b-0cbec6465f89"
   },
   "outputs": [
    {
     "data": {
      "image/png": "[encoded data removed]",
      "text/plain": [
       "<Figure size 720x720 with 1 Axes>"
      ]
     },
     "metadata": {
      "needs_background": "light"
     },
     "output_type": "display_data"
    }
   ],
   "source": [
    "fig = pyplot.figure(figsize=(10, 10))\n",
    "fig.suptitle('Algorithm Comparison')\n",
    "ax = fig.add_subplot(111)\n",
    "pyplot.boxplot(results)\n",
    "ax.set_xticklabels(names)\n",
    "pyplot.show()"
   ]
  },
  {
   "cell_type": "code",
   "execution_count": 36,
   "metadata": {
    "colab": {
     "base_uri": "https://localhost:8080/"
    },
    "id": "uWSfGfCJKe1S",
    "outputId": "ce0e3125-3426-4b6b-ab0b-ac9d5fa9a948"
   },
   "outputs": [
    {
     "name": "stdout",
     "output_type": "stream",
     "text": [
      "ScaledDTC: 0.545296 (0.001018)\n",
      "ScaledLGR: 0.645723 (0.000330)\n",
      "ScaledNB: 0.607260 (0.075498)\n",
      "ScaledRDF: 0.620950 (0.002358)\n"
     ]
    }
   ],
   "source": [
    "# Standardize the dataset\n",
    "pipelines = []\n",
    "pipelines.append(('ScaledDTC', Pipeline([('Scaler', StandardScaler()),('DTC', DecisionTreeClassifier())])))\n",
    "pipelines.append(('ScaledLGR', Pipeline([('Scaler', StandardScaler()),('LGR', LogisticRegression(solver='liblinear', multi_class='ovr'))])))\n",
    "pipelines.append(('ScaledNB', Pipeline([('Scaler', StandardScaler()),('NB', GaussianNB())])))\n",
    "pipelines.append(('ScaledRDF', Pipeline([('Scaler', StandardScaler()),('RDF', RandomForestClassifier())])))\n",
    "\n",
    "\n",
    "results = []\n",
    "names = []\n",
    "for name, model in pipelines:\n",
    "  cv_results = cross_val_score(model, X_train, Y_train, scoring=scoring)\n",
    "  results.append(cv_results)\n",
    "  names.append(name)\n",
    "  msg = \"%s: %f (%f)\" % (name, cv_results.mean(), cv_results.std())\n",
    "  print(msg)"
   ]
  },
  {
   "cell_type": "code",
   "execution_count": 37,
   "metadata": {
    "colab": {
     "base_uri": "https://localhost:8080/",
     "height": 663
    },
    "id": "4-UyfgOrEEkd",
    "outputId": "d8d94767-44f4-4f20-8399-6bfc9013d42b"
   },
   "outputs": [
    {
     "data": {
      "image/png": "[encoded data removed]",
      "text/plain": [
       "<Figure size 720x720 with 1 Axes>"
      ]
     },
     "metadata": {
      "needs_background": "light"
     },
     "output_type": "display_data"
    }
   ],
   "source": [
    "# Compare Algorithms\n",
    "fig = pyplot.figure(figsize=(10, 10))\n",
    "fig.suptitle('Scaled Algorithm Comparison')\n",
    "ax = fig.add_subplot(111)\n",
    "pyplot.boxplot(results)\n",
    "ax.set_xticklabels(names)\n",
    "pyplot.show()"
   ]
  },
  {
   "cell_type": "code",
   "execution_count": 38,
   "metadata": {
    "colab": {
     "base_uri": "https://localhost:8080/"
    },
    "id": "2w6f9pIeEq5U",
    "outputId": "38f0179f-2fd9-49a7-b529-b8013974c236"
   },
   "outputs": [
    {
     "name": "stdout",
     "output_type": "stream",
     "text": [
      "ScaledAB: 0.645607 (0.000327)\n",
      "ScaledGBM: 0.645172 (0.000417)\n",
      "ScaledET: 0.614481 (0.004504)\n"
     ]
    }
   ],
   "source": [
    "# ensembles\n",
    "ensembles = []\n",
    "# boosting\n",
    "ensembles.append(('ScaledAB', Pipeline([('Scaler', StandardScaler()),('AB', AdaBoostClassifier())])))\n",
    "ensembles.append(('ScaledGBM', Pipeline([('Scaler', StandardScaler()),('GBM', GradientBoostingClassifier())])))\n",
    "# bagging\n",
    "ensembles.append(('ScaledET', Pipeline([('Scaler', StandardScaler()),('ET',ExtraTreesClassifier())])))\n",
    "results = []\n",
    "names = []\n",
    "for name, model in ensembles:\n",
    "  cv_results = cross_val_score(model, X_train, Y_train, scoring=scoring)\n",
    "  results.append(cv_results)\n",
    "  names.append(name)\n",
    "  msg = \"%s: %f (%f)\" % (name, cv_results.mean(), cv_results.std())\n",
    "  print(msg)"
   ]
  },
  {
   "cell_type": "code",
   "execution_count": 39,
   "metadata": {
    "colab": {
     "base_uri": "https://localhost:8080/",
     "height": 663
    },
    "id": "PHT8jpFCEtNq",
    "outputId": "3a7f2097-2664-480d-c8e5-bd4c0f85fb01"
   },
   "outputs": [
    {
     "data": {
      "image/png": "[encoded data removed]",
      "text/plain": [
       "<Figure size 720x720 with 1 Axes>"
      ]
     },
     "metadata": {
      "needs_background": "light"
     },
     "output_type": "display_data"
    }
   ],
   "source": [
    "fig = pyplot.figure(figsize=(10, 10))\n",
    "fig.suptitle('Scaled Ensemble Algorithm Comparison')\n",
    "ax = fig.add_subplot(111)\n",
    "pyplot.boxplot(results)\n",
    "ax.set_xticklabels(names)\n",
    "pyplot.show()"
   ]
  },
  {
   "cell_type": "code",
   "execution_count": 40,
   "metadata": {
    "colab": {
     "base_uri": "https://localhost:8080/"
    },
    "id": "MYiJm65PIDVO",
    "outputId": "e464c49a-83b5-42ff-bcab-d516cc651164"
   },
   "outputs": [
    {
     "name": "stdout",
     "output_type": "stream",
     "text": [
      "Best: 0.624866 using {'n_estimators': 900}\n",
      "0.621240 (0.005154) with: {'n_estimators': 100}\n",
      "0.623444 (0.003771) with: {'n_estimators': 300}\n",
      "0.623619 (0.003821) with: {'n_estimators': 500}\n",
      "0.623793 (0.004559) with: {'n_estimators': 700}\n",
      "0.624866 (0.004504) with: {'n_estimators': 900}\n"
     ]
    }
   ],
   "source": [
    "# Scaled RandomForestClassifier\n",
    "scaler = StandardScaler().fit(X_train)\n",
    "rescaledX = scaler.transform(X_train)\n",
    "param_grid = dict(n_estimators=numpy.array([100,300,500,700,900]))\n",
    "model = RandomForestClassifier(random_state=42)\n",
    "grid = GridSearchCV(estimator=model, param_grid=param_grid, scoring=scoring)\n",
    "grid_result = grid.fit(rescaledX, Y_train)\n",
    "\n",
    "print(\"Best: %f using %s\" % (grid_result.best_score_, grid_result.best_params_))\n",
    "means = grid_result.cv_results_['mean_test_score']\n",
    "stds = grid_result.cv_results_['std_test_score']\n",
    "params = grid_result.cv_results_['params']\n",
    "for mean, stdev, param in zip(means, stds, params):\n",
    "  print(\"%f (%f) with: %r\" % (mean, stdev, param))"
   ]
  },
  {
   "cell_type": "code",
   "execution_count": 41,
   "metadata": {
    "colab": {
     "base_uri": "https://localhost:8080/"
    },
    "id": "eiM3Xt8_juYV",
    "outputId": "acb13603-281b-4986-c210-84137bc99b56"
   },
   "outputs": [
    {
     "data": {
      "text/plain": [
       "RandomForestClassifier(n_estimators=900, random_state=7)"
      ]
     },
     "execution_count": 41,
     "metadata": {},
     "output_type": "execute_result"
    }
   ],
   "source": [
    "# prepare the model\n",
    "scaler = StandardScaler().fit(X_train)\n",
    "rescaledX = scaler.transform(X_train)\n",
    "model = RandomForestClassifier(random_state=seed, n_estimators=900)\n",
    "model.fit(rescaledX, Y_train)"
   ]
  },
  {
   "cell_type": "code",
   "execution_count": 42,
   "metadata": {
    "colab": {
     "base_uri": "https://localhost:8080/"
    },
    "id": "EJJITe3ekBBE",
    "outputId": "884d4619-9654-4b56-8e7d-20ede90ffdf2"
   },
   "outputs": [
    {
     "name": "stdout",
     "output_type": "stream",
     "text": [
      "Classification_report\n",
      "              precision    recall  f1-score   support\n",
      "\n",
      "           0       0.42      0.12      0.19      3062\n",
      "           1       0.65      0.91      0.76      5557\n",
      "\n",
      "    accuracy                           0.63      8619\n",
      "   macro avg       0.54      0.51      0.47      8619\n",
      "weighted avg       0.57      0.63      0.56      8619\n",
      "\n",
      "Confusion matrix: \n",
      "[[ 379 2683]\n",
      " [ 526 5031]]\n"
     ]
    }
   ],
   "source": [
    "rescaledX = scaler.fit_transform(X_test)\n",
    "predictions = model.predict(rescaledX)\n",
    "print(\"Classification_report\")\n",
    "print(classification_report(Y_test, predictions))\n",
    "print(\"Confusion matrix: \")\n",
    "print(confusion_matrix(Y_test, predictions))"
   ]
  },
  {
   "cell_type": "markdown",
   "metadata": {
    "id": "dTVYa18Q9_EG"
   },
   "source": [
    "**GOOD RESULT!!!**"
   ]
  },
  {
   "cell_type": "markdown",
   "metadata": {
    "id": "M23Lh9fp60xn"
   },
   "source": [
    "#**6. CONCLUSION**"
   ]
  },
  {
   "cell_type": "markdown",
   "metadata": {
    "id": "5fusqCd8654S"
   },
   "source": [
    "- Through this project, we can know the main factors affecting satisfaction, thereby making reasonable adjustments to increase business efficiency.\n",
    "- Sometimes retaining some features with a low correlation coefficient compared to the output results in better model results."
   ]
  }
 ],
 "metadata": {
  "colab": {
   "name": "PROJECT - Europe Hotel Booking Satisfaction Score.ipynb",
   "provenance": []
  },
  "kernelspec": {
   "display_name": "Python 3",
   "language": "python",
   "name": "python3"
  },
  "language_info": {
   "codemirror_mode": {
    "name": "ipython",
    "version": 3
   },
   "file_extension": ".py",
   "mimetype": "text/x-python",
   "name": "python",
   "nbconvert_exporter": "python",
   "pygments_lexer": "ipython3",
   "version": "3.8.8"
  }
 },
 "nbformat": 4,
 "nbformat_minor": 1
}
